{
  "nbformat": 4,
  "nbformat_minor": 0,
  "metadata": {
    "kernelspec": {
      "display_name": "Python 3 (ipykernel)",
      "language": "python",
      "name": "python3"
    },
    "language_info": {
      "codemirror_mode": {
        "name": "ipython",
        "version": 3
      },
      "file_extension": ".py",
      "mimetype": "text/x-python",
      "name": "python",
      "nbconvert_exporter": "python",
      "pygments_lexer": "ipython3",
      "version": "3.8.8"
    },
    "toc": {
      "base_numbering": 1,
      "nav_menu": {},
      "number_sections": true,
      "sideBar": true,
      "skip_h1_title": false,
      "title_cell": "Table of Contents",
      "title_sidebar": "Contents",
      "toc_cell": false,
      "toc_position": {},
      "toc_section_display": true,
      "toc_window_display": true
    },
    "colab": {
      "name": "Pandas_Complete (1).ipynb",
      "provenance": []
    }
  },
  "cells": [
    {
      "cell_type": "code",
      "metadata": {
        "id": "pfuLj3tmCewA"
      },
      "source": [
        "import pandas as pd \n"
      ],
      "execution_count": 8,
      "outputs": []
    },
    {
      "cell_type": "code",
      "metadata": {
        "colab": {
          "base_uri": "https://localhost:8080/"
        },
        "id": "D7obc3h5CewC",
        "outputId": "15d7327f-7f04-4d22-bfa2-9c1813384e8f"
      },
      "source": [
        "print(pd.Series.__doc__)"
      ],
      "execution_count": 9,
      "outputs": [
        {
          "output_type": "stream",
          "name": "stdout",
          "text": [
            "\n",
            "    One-dimensional ndarray with axis labels (including time series).\n",
            "\n",
            "    Labels need not be unique but must be a hashable type. The object\n",
            "    supports both integer- and label-based indexing and provides a host of\n",
            "    methods for performing operations involving the index. Statistical\n",
            "    methods from ndarray have been overridden to automatically exclude\n",
            "    missing data (currently represented as NaN).\n",
            "\n",
            "    Operations between Series (+, -, /, *, **) align values based on their\n",
            "    associated index values-- they need not be the same length. The result\n",
            "    index will be the sorted union of the two indexes.\n",
            "\n",
            "    Parameters\n",
            "    ----------\n",
            "    data : array-like, Iterable, dict, or scalar value\n",
            "        Contains data stored in Series.\n",
            "\n",
            "        .. versionchanged:: 0.23.0\n",
            "           If data is a dict, argument order is maintained for Python 3.6\n",
            "           and later.\n",
            "\n",
            "    index : array-like or Index (1d)\n",
            "        Values must be hashable and have the same length as `data`.\n",
            "        Non-unique index values are allowed. Will default to\n",
            "        RangeIndex (0, 1, 2, ..., n) if not provided. If both a dict and index\n",
            "        sequence are used, the index will override the keys found in the\n",
            "        dict.\n",
            "    dtype : str, numpy.dtype, or ExtensionDtype, optional\n",
            "        Data type for the output Series. If not specified, this will be\n",
            "        inferred from `data`.\n",
            "        See the :ref:`user guide <basics.dtypes>` for more usages.\n",
            "    name : str, optional\n",
            "        The name to give to the Series.\n",
            "    copy : bool, default False\n",
            "        Copy input data.\n",
            "    \n"
          ]
        }
      ]
    },
    {
      "cell_type": "markdown",
      "metadata": {
        "id": "AKqNFn7iCewD"
      },
      "source": [
        "# Series : This is a datatype within dataframe which has the following featues\n",
        "            1. It has attibutes which can hold- list,dict,ndarray\n",
        "            2. All the features of numpy array can be associated in it hence it is very usefull"
      ]
    },
    {
      "cell_type": "code",
      "metadata": {
        "colab": {
          "base_uri": "https://localhost:8080/"
        },
        "id": "Nc9-AIcBCewE",
        "outputId": "1a15fa25-143a-43c1-8638-baac28dc3c36"
      },
      "source": [
        "data = pd.Series(['python', 'java', 'javascript', 'c'])\n",
        "data"
      ],
      "execution_count": 10,
      "outputs": [
        {
          "output_type": "execute_result",
          "data": {
            "text/plain": [
              "0        python\n",
              "1          java\n",
              "2    javascript\n",
              "3             c\n",
              "dtype: object"
            ]
          },
          "metadata": {},
          "execution_count": 10
        }
      ]
    },
    {
      "cell_type": "markdown",
      "metadata": {
        "id": "rjwuMbr3CewF"
      },
      "source": [
        "## Attributes"
      ]
    },
    {
      "cell_type": "code",
      "metadata": {
        "colab": {
          "base_uri": "https://localhost:8080/"
        },
        "id": "y_SkGYmCCewF",
        "outputId": "599b05a2-23b3-46f4-8d02-fdd61bda91d3"
      },
      "source": [
        "data.index"
      ],
      "execution_count": 11,
      "outputs": [
        {
          "output_type": "execute_result",
          "data": {
            "text/plain": [
              "RangeIndex(start=0, stop=4, step=1)"
            ]
          },
          "metadata": {},
          "execution_count": 11
        }
      ]
    },
    {
      "cell_type": "code",
      "metadata": {
        "colab": {
          "base_uri": "https://localhost:8080/"
        },
        "id": "bhhQFEOaCewG",
        "outputId": "2100b615-edd7-4309-c929-f530720e197d"
      },
      "source": [
        "data.dtype"
      ],
      "execution_count": 12,
      "outputs": [
        {
          "output_type": "execute_result",
          "data": {
            "text/plain": [
              "dtype('O')"
            ]
          },
          "metadata": {},
          "execution_count": 12
        }
      ]
    },
    {
      "cell_type": "code",
      "metadata": {
        "colab": {
          "base_uri": "https://localhost:8080/"
        },
        "id": "eYm3P4J1CewH",
        "outputId": "8b4966ed-61d9-48e1-b025-49dde0ef5f95"
      },
      "source": [
        "data.shape"
      ],
      "execution_count": 13,
      "outputs": [
        {
          "output_type": "execute_result",
          "data": {
            "text/plain": [
              "(4,)"
            ]
          },
          "metadata": {},
          "execution_count": 13
        }
      ]
    },
    {
      "cell_type": "code",
      "metadata": {
        "colab": {
          "base_uri": "https://localhost:8080/"
        },
        "id": "BYmUlCWRCewH",
        "outputId": "37b26e31-b00c-425b-9bb1-5cdd0fe8094a"
      },
      "source": [
        "data.size"
      ],
      "execution_count": 14,
      "outputs": [
        {
          "output_type": "execute_result",
          "data": {
            "text/plain": [
              "4"
            ]
          },
          "metadata": {},
          "execution_count": 14
        }
      ]
    },
    {
      "cell_type": "code",
      "metadata": {
        "colab": {
          "base_uri": "https://localhost:8080/"
        },
        "id": "x9wWH4cKCewI",
        "outputId": "8b69c14b-0c33-4504-f4a6-b40cd724391b"
      },
      "source": [
        "data.empty"
      ],
      "execution_count": 15,
      "outputs": [
        {
          "output_type": "execute_result",
          "data": {
            "text/plain": [
              "False"
            ]
          },
          "metadata": {},
          "execution_count": 15
        }
      ]
    },
    {
      "cell_type": "code",
      "metadata": {
        "colab": {
          "base_uri": "https://localhost:8080/"
        },
        "id": "D4y18vjmCewI",
        "outputId": "a0228fbf-31f9-4918-9c7e-09df9749459f"
      },
      "source": [
        "data.ndim"
      ],
      "execution_count": 16,
      "outputs": [
        {
          "output_type": "execute_result",
          "data": {
            "text/plain": [
              "1"
            ]
          },
          "metadata": {},
          "execution_count": 16
        }
      ]
    },
    {
      "cell_type": "code",
      "metadata": {
        "colab": {
          "base_uri": "https://localhost:8080/"
        },
        "id": "gWI15aOUCewI",
        "outputId": "dc592308-cc64-43e4-de39-671dc2606a23"
      },
      "source": [
        "data.hasnans"
      ],
      "execution_count": 17,
      "outputs": [
        {
          "output_type": "execute_result",
          "data": {
            "text/plain": [
              "False"
            ]
          },
          "metadata": {},
          "execution_count": 17
        }
      ]
    },
    {
      "cell_type": "code",
      "metadata": {
        "colab": {
          "base_uri": "https://localhost:8080/"
        },
        "id": "ufL4crxCCewJ",
        "outputId": "8fc97504-5e8a-43e4-b713-8910a8bd6cd9"
      },
      "source": [
        "data.nbytes"
      ],
      "execution_count": 18,
      "outputs": [
        {
          "output_type": "execute_result",
          "data": {
            "text/plain": [
              "32"
            ]
          },
          "metadata": {},
          "execution_count": 18
        }
      ]
    },
    {
      "cell_type": "markdown",
      "metadata": {
        "id": "JwCkmEN_CewJ"
      },
      "source": [
        "## Indexing"
      ]
    },
    {
      "cell_type": "code",
      "metadata": {
        "colab": {
          "base_uri": "https://localhost:8080/",
          "height": 35
        },
        "id": "LsvML5aJCewJ",
        "outputId": "05a26493-8de7-4d41-e97f-17fb2d57e0f8"
      },
      "source": [
        "data.loc[0]"
      ],
      "execution_count": 19,
      "outputs": [
        {
          "output_type": "execute_result",
          "data": {
            "application/vnd.google.colaboratory.intrinsic+json": {
              "type": "string"
            },
            "text/plain": [
              "'python'"
            ]
          },
          "metadata": {},
          "execution_count": 19
        }
      ]
    },
    {
      "cell_type": "code",
      "metadata": {
        "colab": {
          "base_uri": "https://localhost:8080/",
          "height": 35
        },
        "id": "Ntc-OXC3CewJ",
        "outputId": "21894252-2021-41f8-84d7-eec04127d9dc"
      },
      "source": [
        "data.iloc[1]"
      ],
      "execution_count": 20,
      "outputs": [
        {
          "output_type": "execute_result",
          "data": {
            "application/vnd.google.colaboratory.intrinsic+json": {
              "type": "string"
            },
            "text/plain": [
              "'java'"
            ]
          },
          "metadata": {},
          "execution_count": 20
        }
      ]
    },
    {
      "cell_type": "code",
      "metadata": {
        "colab": {
          "base_uri": "https://localhost:8080/",
          "height": 35
        },
        "id": "XJQ-l8VaCewK",
        "outputId": "31abbe44-8c57-493c-a0b7-c344f15b712b"
      },
      "source": [
        "data[3]"
      ],
      "execution_count": 21,
      "outputs": [
        {
          "output_type": "execute_result",
          "data": {
            "application/vnd.google.colaboratory.intrinsic+json": {
              "type": "string"
            },
            "text/plain": [
              "'c'"
            ]
          },
          "metadata": {},
          "execution_count": 21
        }
      ]
    },
    {
      "cell_type": "code",
      "metadata": {
        "colab": {
          "base_uri": "https://localhost:8080/"
        },
        "id": "OSiJYBfCCewK",
        "outputId": "a85508da-02f8-4f60-d345-6801eb7642e3"
      },
      "source": [
        "data[2:5]"
      ],
      "execution_count": 22,
      "outputs": [
        {
          "output_type": "execute_result",
          "data": {
            "text/plain": [
              "2    javascript\n",
              "3             c\n",
              "dtype: object"
            ]
          },
          "metadata": {},
          "execution_count": 22
        }
      ]
    },
    {
      "cell_type": "code",
      "metadata": {
        "scrolled": true,
        "colab": {
          "base_uri": "https://localhost:8080/"
        },
        "id": "gjraIyINCewK",
        "outputId": "bdd28803-95a4-43b4-bf5b-3fa35f050ab0"
      },
      "source": [
        "data[0:5:2]"
      ],
      "execution_count": 23,
      "outputs": [
        {
          "output_type": "execute_result",
          "data": {
            "text/plain": [
              "0        python\n",
              "2    javascript\n",
              "dtype: object"
            ]
          },
          "metadata": {},
          "execution_count": 23
        }
      ]
    },
    {
      "cell_type": "code",
      "metadata": {
        "colab": {
          "base_uri": "https://localhost:8080/"
        },
        "id": "c_rnQLm8CewK",
        "outputId": "824a241d-a457-419b-ba6d-03a5e98d56ba"
      },
      "source": [
        "for i in data:\n",
        "    print(i)"
      ],
      "execution_count": 24,
      "outputs": [
        {
          "output_type": "stream",
          "name": "stdout",
          "text": [
            "python\n",
            "java\n",
            "javascript\n",
            "c\n"
          ]
        }
      ]
    },
    {
      "cell_type": "markdown",
      "metadata": {
        "id": "Rzx1JLHUCewL"
      },
      "source": [
        "## Window functions"
      ]
    },
    {
      "cell_type": "code",
      "metadata": {
        "colab": {
          "base_uri": "https://localhost:8080/"
        },
        "id": "bf22cqxvCewL",
        "outputId": "49c3f82c-6a09-4257-8cc5-7bd895c884e5"
      },
      "source": [
        "data = pd.Series([2,4,5,6,7,8,3,6,3,4])\n",
        "print(data)"
      ],
      "execution_count": 25,
      "outputs": [
        {
          "output_type": "stream",
          "name": "stdout",
          "text": [
            "0    2\n",
            "1    4\n",
            "2    5\n",
            "3    6\n",
            "4    7\n",
            "5    8\n",
            "6    3\n",
            "7    6\n",
            "8    3\n",
            "9    4\n",
            "dtype: int64\n"
          ]
        }
      ]
    },
    {
      "cell_type": "code",
      "metadata": {
        "colab": {
          "base_uri": "https://localhost:8080/"
        },
        "id": "Cw62YPUTCewL",
        "outputId": "d8a82965-0ec8-4bfc-a834-c59063851254"
      },
      "source": [
        "data.rolling(window=2).sum()"
      ],
      "execution_count": 26,
      "outputs": [
        {
          "output_type": "execute_result",
          "data": {
            "text/plain": [
              "0     NaN\n",
              "1     6.0\n",
              "2     9.0\n",
              "3    11.0\n",
              "4    13.0\n",
              "5    15.0\n",
              "6    11.0\n",
              "7     9.0\n",
              "8     9.0\n",
              "9     7.0\n",
              "dtype: float64"
            ]
          },
          "metadata": {},
          "execution_count": 26
        }
      ]
    },
    {
      "cell_type": "code",
      "metadata": {
        "colab": {
          "base_uri": "https://localhost:8080/"
        },
        "id": "6VEF6dCFCewL",
        "outputId": "7cbf4562-8042-4948-9c28-64779ff7e35a"
      },
      "source": [
        "data.expanding(min_periods=2).sum()"
      ],
      "execution_count": 27,
      "outputs": [
        {
          "output_type": "execute_result",
          "data": {
            "text/plain": [
              "0     NaN\n",
              "1     6.0\n",
              "2    11.0\n",
              "3    17.0\n",
              "4    24.0\n",
              "5    32.0\n",
              "6    35.0\n",
              "7    41.0\n",
              "8    44.0\n",
              "9    48.0\n",
              "dtype: float64"
            ]
          },
          "metadata": {},
          "execution_count": 27
        }
      ]
    },
    {
      "cell_type": "code",
      "metadata": {
        "id": "_5efErG_CewL"
      },
      "source": [
        "data = pd.Series([2000,4000,5000,6000,7000,8000,3000,6000,3000,4000],\n",
        "                 index= ['Male', 'Female', 'Male', 'Female', 'Female', 'Female','Male','Male','Male','Male'])"
      ],
      "execution_count": 28,
      "outputs": []
    },
    {
      "cell_type": "code",
      "metadata": {
        "colab": {
          "base_uri": "https://localhost:8080/"
        },
        "id": "7kBABa7oCewL",
        "outputId": "9f9c466f-aa41-4785-8c24-ec9409581d18"
      },
      "source": [
        "data"
      ],
      "execution_count": 29,
      "outputs": [
        {
          "output_type": "execute_result",
          "data": {
            "text/plain": [
              "Male      2000\n",
              "Female    4000\n",
              "Male      5000\n",
              "Female    6000\n",
              "Female    7000\n",
              "Female    8000\n",
              "Male      3000\n",
              "Male      6000\n",
              "Male      3000\n",
              "Male      4000\n",
              "dtype: int64"
            ]
          },
          "metadata": {},
          "execution_count": 29
        }
      ]
    },
    {
      "cell_type": "markdown",
      "metadata": {
        "id": "9krmpS6VCewM"
      },
      "source": [
        "## Stats , missing values , sorting"
      ]
    },
    {
      "cell_type": "code",
      "metadata": {
        "scrolled": true,
        "colab": {
          "base_uri": "https://localhost:8080/"
        },
        "id": "RnZXM-H_CewM",
        "outputId": "b3f6b5c1-ac6a-4931-f20f-7f497d6dd749"
      },
      "source": [
        "data = pd.Series([2,4,5,6,7,8,3,6,3,4])\n",
        "data.describe()"
      ],
      "execution_count": 30,
      "outputs": [
        {
          "output_type": "execute_result",
          "data": {
            "text/plain": [
              "count    10.000000\n",
              "mean      4.800000\n",
              "std       1.932184\n",
              "min       2.000000\n",
              "25%       3.250000\n",
              "50%       4.500000\n",
              "75%       6.000000\n",
              "max       8.000000\n",
              "dtype: float64"
            ]
          },
          "metadata": {},
          "execution_count": 30
        }
      ]
    },
    {
      "cell_type": "code",
      "metadata": {
        "colab": {
          "base_uri": "https://localhost:8080/"
        },
        "id": "A797KQdwCewM",
        "outputId": "47765977-58f5-4c0d-81e5-5ec8a6091a0e"
      },
      "source": [
        "data"
      ],
      "execution_count": 31,
      "outputs": [
        {
          "output_type": "execute_result",
          "data": {
            "text/plain": [
              "0    2\n",
              "1    4\n",
              "2    5\n",
              "3    6\n",
              "4    7\n",
              "5    8\n",
              "6    3\n",
              "7    6\n",
              "8    3\n",
              "9    4\n",
              "dtype: int64"
            ]
          },
          "metadata": {},
          "execution_count": 31
        }
      ]
    },
    {
      "cell_type": "code",
      "metadata": {
        "id": "OomKe5lCCewM"
      },
      "source": [
        ""
      ],
      "execution_count": 31,
      "outputs": []
    },
    {
      "cell_type": "code",
      "metadata": {
        "id": "DuOTkcqmCewM"
      },
      "source": [
        "data = pd.Series([2,4,5,6,7,8,3,6,3,None])"
      ],
      "execution_count": 32,
      "outputs": []
    },
    {
      "cell_type": "code",
      "metadata": {
        "colab": {
          "base_uri": "https://localhost:8080/"
        },
        "id": "b9oj4GMjCewM",
        "outputId": "70457440-9ac2-45ce-a4e8-5c7bf7968d24"
      },
      "source": [
        "data.isnull().sum()"
      ],
      "execution_count": 33,
      "outputs": [
        {
          "output_type": "execute_result",
          "data": {
            "text/plain": [
              "1"
            ]
          },
          "metadata": {},
          "execution_count": 33
        }
      ]
    },
    {
      "cell_type": "code",
      "metadata": {
        "colab": {
          "base_uri": "https://localhost:8080/"
        },
        "id": "QBz2_8bbCewM",
        "outputId": "e24eab87-e18b-43e0-9200-83051da6f061"
      },
      "source": [
        "data.sort_values(ascending= False)"
      ],
      "execution_count": 34,
      "outputs": [
        {
          "output_type": "execute_result",
          "data": {
            "text/plain": [
              "5    8.0\n",
              "4    7.0\n",
              "7    6.0\n",
              "3    6.0\n",
              "2    5.0\n",
              "1    4.0\n",
              "8    3.0\n",
              "6    3.0\n",
              "0    2.0\n",
              "9    NaN\n",
              "dtype: float64"
            ]
          },
          "metadata": {},
          "execution_count": 34
        }
      ]
    },
    {
      "cell_type": "markdown",
      "metadata": {
        "id": "RMnCZ6VyCewM"
      },
      "source": [
        "\n",
        "\n",
        "```\n",
        "# This is formatted as code\n",
        "```\n",
        "\n",
        "# DataFrame\n",
        "This datatype is the most frequently used data type in any analysis "
      ]
    },
    {
      "cell_type": "markdown",
      "metadata": {
        "id": "3zjVH5yICewN"
      },
      "source": [
        "## Attributes"
      ]
    },
    {
      "cell_type": "code",
      "metadata": {
        "id": "WNixGEt7CewN"
      },
      "source": [
        "df = pd.DataFrame({'Name': {0: 'John', 1: 'Mike', 2: 'jesse', 3:'adola'},\n",
        "                   'Gender':{0:'male', 1:'male', 2:'female', 3:'female'},\n",
        "                   'Department':{0:'Sales', 1:'Marketing', 2:'Datascience', 3:'Python'},\n",
        "                   'Age': {0: 27, 1: 23, 2: 21, 3:25},\n",
        "                   'Salary':{0:1000, 1:2000, 2:3000, 3:2500}})"
      ],
      "execution_count": 35,
      "outputs": []
    },
    {
      "cell_type": "code",
      "metadata": {
        "colab": {
          "base_uri": "https://localhost:8080/",
          "height": 173
        },
        "id": "3uX2cK4nCewN",
        "outputId": "8f8a4ba5-00fa-4055-f5e7-a87ed6171099"
      },
      "source": [
        "df"
      ],
      "execution_count": 36,
      "outputs": [
        {
          "output_type": "execute_result",
          "data": {
            "text/html": [
              "<div>\n",
              "<style scoped>\n",
              "    .dataframe tbody tr th:only-of-type {\n",
              "        vertical-align: middle;\n",
              "    }\n",
              "\n",
              "    .dataframe tbody tr th {\n",
              "        vertical-align: top;\n",
              "    }\n",
              "\n",
              "    .dataframe thead th {\n",
              "        text-align: right;\n",
              "    }\n",
              "</style>\n",
              "<table border=\"1\" class=\"dataframe\">\n",
              "  <thead>\n",
              "    <tr style=\"text-align: right;\">\n",
              "      <th></th>\n",
              "      <th>Name</th>\n",
              "      <th>Gender</th>\n",
              "      <th>Department</th>\n",
              "      <th>Age</th>\n",
              "      <th>Salary</th>\n",
              "    </tr>\n",
              "  </thead>\n",
              "  <tbody>\n",
              "    <tr>\n",
              "      <th>0</th>\n",
              "      <td>John</td>\n",
              "      <td>male</td>\n",
              "      <td>Sales</td>\n",
              "      <td>27</td>\n",
              "      <td>1000</td>\n",
              "    </tr>\n",
              "    <tr>\n",
              "      <th>1</th>\n",
              "      <td>Mike</td>\n",
              "      <td>male</td>\n",
              "      <td>Marketing</td>\n",
              "      <td>23</td>\n",
              "      <td>2000</td>\n",
              "    </tr>\n",
              "    <tr>\n",
              "      <th>2</th>\n",
              "      <td>jesse</td>\n",
              "      <td>female</td>\n",
              "      <td>Datascience</td>\n",
              "      <td>21</td>\n",
              "      <td>3000</td>\n",
              "    </tr>\n",
              "    <tr>\n",
              "      <th>3</th>\n",
              "      <td>adola</td>\n",
              "      <td>female</td>\n",
              "      <td>Python</td>\n",
              "      <td>25</td>\n",
              "      <td>2500</td>\n",
              "    </tr>\n",
              "  </tbody>\n",
              "</table>\n",
              "</div>"
            ],
            "text/plain": [
              "    Name  Gender   Department  Age  Salary\n",
              "0   John    male        Sales   27    1000\n",
              "1   Mike    male    Marketing   23    2000\n",
              "2  jesse  female  Datascience   21    3000\n",
              "3  adola  female       Python   25    2500"
            ]
          },
          "metadata": {},
          "execution_count": 36
        }
      ]
    },
    {
      "cell_type": "code",
      "metadata": {
        "colab": {
          "base_uri": "https://localhost:8080/"
        },
        "id": "anTgajjbCewN",
        "outputId": "424869e9-3125-4e5d-bf26-e02e339821ab"
      },
      "source": [
        "df.index"
      ],
      "execution_count": 37,
      "outputs": [
        {
          "output_type": "execute_result",
          "data": {
            "text/plain": [
              "Int64Index([0, 1, 2, 3], dtype='int64')"
            ]
          },
          "metadata": {},
          "execution_count": 37
        }
      ]
    },
    {
      "cell_type": "code",
      "metadata": {
        "colab": {
          "base_uri": "https://localhost:8080/"
        },
        "id": "bGYc1DzMCewN",
        "outputId": "d581bd15-351f-40d7-aefd-1b7f4435d363"
      },
      "source": [
        "df.columns"
      ],
      "execution_count": 38,
      "outputs": [
        {
          "output_type": "execute_result",
          "data": {
            "text/plain": [
              "Index(['Name', 'Gender', 'Department', 'Age', 'Salary'], dtype='object')"
            ]
          },
          "metadata": {},
          "execution_count": 38
        }
      ]
    },
    {
      "cell_type": "code",
      "metadata": {
        "colab": {
          "base_uri": "https://localhost:8080/"
        },
        "id": "F2FEhw6KCewN",
        "outputId": "1db73647-1916-4eb0-db0c-6489be1808fd"
      },
      "source": [
        "df.shape"
      ],
      "execution_count": 39,
      "outputs": [
        {
          "output_type": "execute_result",
          "data": {
            "text/plain": [
              "(4, 5)"
            ]
          },
          "metadata": {},
          "execution_count": 39
        }
      ]
    },
    {
      "cell_type": "code",
      "metadata": {
        "colab": {
          "base_uri": "https://localhost:8080/"
        },
        "id": "Ha1LE9XuCewN",
        "outputId": "e0170019-d452-4c36-f6c1-97ecd4379147"
      },
      "source": [
        "df.dtypes"
      ],
      "execution_count": 40,
      "outputs": [
        {
          "output_type": "execute_result",
          "data": {
            "text/plain": [
              "Name          object\n",
              "Gender        object\n",
              "Department    object\n",
              "Age            int64\n",
              "Salary         int64\n",
              "dtype: object"
            ]
          },
          "metadata": {},
          "execution_count": 40
        }
      ]
    },
    {
      "cell_type": "code",
      "metadata": {
        "colab": {
          "base_uri": "https://localhost:8080/"
        },
        "id": "RFSTX4_PCewN",
        "outputId": "7149c21c-6b89-4761-b45e-6a3df7c4bd02"
      },
      "source": [
        "# this will give info in an array format\n",
        "df.values"
      ],
      "execution_count": 41,
      "outputs": [
        {
          "output_type": "execute_result",
          "data": {
            "text/plain": [
              "array([['John', 'male', 'Sales', 27, 1000],\n",
              "       ['Mike', 'male', 'Marketing', 23, 2000],\n",
              "       ['jesse', 'female', 'Datascience', 21, 3000],\n",
              "       ['adola', 'female', 'Python', 25, 2500]], dtype=object)"
            ]
          },
          "metadata": {},
          "execution_count": 41
        }
      ]
    },
    {
      "cell_type": "code",
      "metadata": {
        "colab": {
          "base_uri": "https://localhost:8080/"
        },
        "id": "i2fHOAUGCewO",
        "outputId": "93bcf4cd-b750-4399-f315-1764cf657d4b"
      },
      "source": [
        "df.axes"
      ],
      "execution_count": 42,
      "outputs": [
        {
          "output_type": "execute_result",
          "data": {
            "text/plain": [
              "[Int64Index([0, 1, 2, 3], dtype='int64'),\n",
              " Index(['Name', 'Gender', 'Department', 'Age', 'Salary'], dtype='object')]"
            ]
          },
          "metadata": {},
          "execution_count": 42
        }
      ]
    },
    {
      "cell_type": "code",
      "metadata": {
        "colab": {
          "base_uri": "https://localhost:8080/"
        },
        "id": "BW18n2juCewO",
        "outputId": "ba23cd37-bc04-4591-8725-807bb3055814"
      },
      "source": [
        "df.size"
      ],
      "execution_count": 43,
      "outputs": [
        {
          "output_type": "execute_result",
          "data": {
            "text/plain": [
              "20"
            ]
          },
          "metadata": {},
          "execution_count": 43
        }
      ]
    },
    {
      "cell_type": "code",
      "metadata": {
        "colab": {
          "base_uri": "https://localhost:8080/"
        },
        "id": "gevnimsDCewO",
        "outputId": "9451f66d-1390-43e4-9257-31d516affcdb"
      },
      "source": [
        "df.empty"
      ],
      "execution_count": 44,
      "outputs": [
        {
          "output_type": "execute_result",
          "data": {
            "text/plain": [
              "False"
            ]
          },
          "metadata": {},
          "execution_count": 44
        }
      ]
    },
    {
      "cell_type": "markdown",
      "metadata": {
        "id": "TpdBhus6CewO"
      },
      "source": [
        "## indexing"
      ]
    },
    {
      "cell_type": "code",
      "metadata": {
        "colab": {
          "base_uri": "https://localhost:8080/"
        },
        "id": "Svg6MKwNCewO",
        "outputId": "07d2e129-8b7b-4874-f740-d4180daeda01"
      },
      "source": [
        "df.iloc[0]\n",
        "\n"
      ],
      "execution_count": 45,
      "outputs": [
        {
          "output_type": "execute_result",
          "data": {
            "text/plain": [
              "Name           John\n",
              "Gender         male\n",
              "Department    Sales\n",
              "Age              27\n",
              "Salary         1000\n",
              "Name: 0, dtype: object"
            ]
          },
          "metadata": {},
          "execution_count": 45
        }
      ]
    },
    {
      "cell_type": "code",
      "metadata": {
        "colab": {
          "base_uri": "https://localhost:8080/",
          "height": 111
        },
        "id": "J_If_tRNCewO",
        "outputId": "679e5039-8cfc-4c94-96cd-66b1f831e4e0"
      },
      "source": [
        "df.iloc[2:4, 2:5]\n",
        "\n"
      ],
      "execution_count": 46,
      "outputs": [
        {
          "output_type": "execute_result",
          "data": {
            "text/html": [
              "<div>\n",
              "<style scoped>\n",
              "    .dataframe tbody tr th:only-of-type {\n",
              "        vertical-align: middle;\n",
              "    }\n",
              "\n",
              "    .dataframe tbody tr th {\n",
              "        vertical-align: top;\n",
              "    }\n",
              "\n",
              "    .dataframe thead th {\n",
              "        text-align: right;\n",
              "    }\n",
              "</style>\n",
              "<table border=\"1\" class=\"dataframe\">\n",
              "  <thead>\n",
              "    <tr style=\"text-align: right;\">\n",
              "      <th></th>\n",
              "      <th>Department</th>\n",
              "      <th>Age</th>\n",
              "      <th>Salary</th>\n",
              "    </tr>\n",
              "  </thead>\n",
              "  <tbody>\n",
              "    <tr>\n",
              "      <th>2</th>\n",
              "      <td>Datascience</td>\n",
              "      <td>21</td>\n",
              "      <td>3000</td>\n",
              "    </tr>\n",
              "    <tr>\n",
              "      <th>3</th>\n",
              "      <td>Python</td>\n",
              "      <td>25</td>\n",
              "      <td>2500</td>\n",
              "    </tr>\n",
              "  </tbody>\n",
              "</table>\n",
              "</div>"
            ],
            "text/plain": [
              "    Department  Age  Salary\n",
              "2  Datascience   21    3000\n",
              "3       Python   25    2500"
            ]
          },
          "metadata": {},
          "execution_count": 46
        }
      ]
    },
    {
      "cell_type": "code",
      "metadata": {
        "colab": {
          "base_uri": "https://localhost:8080/",
          "height": 111
        },
        "id": "zLhgc2c7CewO",
        "outputId": "1e62a051-10cc-438d-87a1-b7ac0b580039"
      },
      "source": [
        "df.loc[2:4]\n",
        "\n"
      ],
      "execution_count": 47,
      "outputs": [
        {
          "output_type": "execute_result",
          "data": {
            "text/html": [
              "<div>\n",
              "<style scoped>\n",
              "    .dataframe tbody tr th:only-of-type {\n",
              "        vertical-align: middle;\n",
              "    }\n",
              "\n",
              "    .dataframe tbody tr th {\n",
              "        vertical-align: top;\n",
              "    }\n",
              "\n",
              "    .dataframe thead th {\n",
              "        text-align: right;\n",
              "    }\n",
              "</style>\n",
              "<table border=\"1\" class=\"dataframe\">\n",
              "  <thead>\n",
              "    <tr style=\"text-align: right;\">\n",
              "      <th></th>\n",
              "      <th>Name</th>\n",
              "      <th>Gender</th>\n",
              "      <th>Department</th>\n",
              "      <th>Age</th>\n",
              "      <th>Salary</th>\n",
              "    </tr>\n",
              "  </thead>\n",
              "  <tbody>\n",
              "    <tr>\n",
              "      <th>2</th>\n",
              "      <td>jesse</td>\n",
              "      <td>female</td>\n",
              "      <td>Datascience</td>\n",
              "      <td>21</td>\n",
              "      <td>3000</td>\n",
              "    </tr>\n",
              "    <tr>\n",
              "      <th>3</th>\n",
              "      <td>adola</td>\n",
              "      <td>female</td>\n",
              "      <td>Python</td>\n",
              "      <td>25</td>\n",
              "      <td>2500</td>\n",
              "    </tr>\n",
              "  </tbody>\n",
              "</table>\n",
              "</div>"
            ],
            "text/plain": [
              "    Name  Gender   Department  Age  Salary\n",
              "2  jesse  female  Datascience   21    3000\n",
              "3  adola  female       Python   25    2500"
            ]
          },
          "metadata": {},
          "execution_count": 47
        }
      ]
    },
    {
      "cell_type": "code",
      "metadata": {
        "colab": {
          "base_uri": "https://localhost:8080/",
          "height": 173
        },
        "id": "RgAKcVfhCewO",
        "outputId": "e00cc2e4-1cd0-4018-92dd-dfff45450559"
      },
      "source": [
        "df.loc[:, ['Name', 'Gender']]\n",
        "\n"
      ],
      "execution_count": 48,
      "outputs": [
        {
          "output_type": "execute_result",
          "data": {
            "text/html": [
              "<div>\n",
              "<style scoped>\n",
              "    .dataframe tbody tr th:only-of-type {\n",
              "        vertical-align: middle;\n",
              "    }\n",
              "\n",
              "    .dataframe tbody tr th {\n",
              "        vertical-align: top;\n",
              "    }\n",
              "\n",
              "    .dataframe thead th {\n",
              "        text-align: right;\n",
              "    }\n",
              "</style>\n",
              "<table border=\"1\" class=\"dataframe\">\n",
              "  <thead>\n",
              "    <tr style=\"text-align: right;\">\n",
              "      <th></th>\n",
              "      <th>Name</th>\n",
              "      <th>Gender</th>\n",
              "    </tr>\n",
              "  </thead>\n",
              "  <tbody>\n",
              "    <tr>\n",
              "      <th>0</th>\n",
              "      <td>John</td>\n",
              "      <td>male</td>\n",
              "    </tr>\n",
              "    <tr>\n",
              "      <th>1</th>\n",
              "      <td>Mike</td>\n",
              "      <td>male</td>\n",
              "    </tr>\n",
              "    <tr>\n",
              "      <th>2</th>\n",
              "      <td>jesse</td>\n",
              "      <td>female</td>\n",
              "    </tr>\n",
              "    <tr>\n",
              "      <th>3</th>\n",
              "      <td>adola</td>\n",
              "      <td>female</td>\n",
              "    </tr>\n",
              "  </tbody>\n",
              "</table>\n",
              "</div>"
            ],
            "text/plain": [
              "    Name  Gender\n",
              "0   John    male\n",
              "1   Mike    male\n",
              "2  jesse  female\n",
              "3  adola  female"
            ]
          },
          "metadata": {},
          "execution_count": 48
        }
      ]
    },
    {
      "cell_type": "markdown",
      "metadata": {
        "id": "Kvlpu28wCewO"
      },
      "source": [
        "## groupby"
      ]
    },
    {
      "cell_type": "code",
      "metadata": {
        "id": "SsuxG8TxCewP"
      },
      "source": [
        "df = pd.DataFrame({'Name': {0: 'John', 1: 'Mike', 2: 'jesse', 3:'adola'},\n",
        "                   'Gender':{0:'male', 1:'male', 2:'female', 3:'female'},\n",
        "                   'Department':{0:'Sales', 1:'Marketing', 2:'Datascience', 3:'Datascience'},\n",
        "                   'Age': {0: 27, 1: 23, 2: 21, 3:25},\n",
        "                   'Salary':{0:1000, 1:2000, 2:3000, 3:2500}})"
      ],
      "execution_count": null,
      "outputs": []
    },
    {
      "cell_type": "code",
      "metadata": {
        "id": "H6vHxtY1CewP",
        "outputId": "6a32d977-56f7-40b7-e3b8-5df4276d3912"
      },
      "source": [
        "df.groupby(['Department']).agg({'Age': 'min', 'Salary':'mean'})"
      ],
      "execution_count": null,
      "outputs": [
        {
          "data": {
            "text/html": [
              "<div>\n",
              "<style scoped>\n",
              "    .dataframe tbody tr th:only-of-type {\n",
              "        vertical-align: middle;\n",
              "    }\n",
              "\n",
              "    .dataframe tbody tr th {\n",
              "        vertical-align: top;\n",
              "    }\n",
              "\n",
              "    .dataframe thead th {\n",
              "        text-align: right;\n",
              "    }\n",
              "</style>\n",
              "<table border=\"1\" class=\"dataframe\">\n",
              "  <thead>\n",
              "    <tr style=\"text-align: right;\">\n",
              "      <th></th>\n",
              "      <th>Age</th>\n",
              "      <th>Salary</th>\n",
              "    </tr>\n",
              "    <tr>\n",
              "      <th>Department</th>\n",
              "      <th></th>\n",
              "      <th></th>\n",
              "    </tr>\n",
              "  </thead>\n",
              "  <tbody>\n",
              "    <tr>\n",
              "      <th>Datascience</th>\n",
              "      <td>21</td>\n",
              "      <td>2750</td>\n",
              "    </tr>\n",
              "    <tr>\n",
              "      <th>Marketing</th>\n",
              "      <td>23</td>\n",
              "      <td>2000</td>\n",
              "    </tr>\n",
              "    <tr>\n",
              "      <th>Sales</th>\n",
              "      <td>27</td>\n",
              "      <td>1000</td>\n",
              "    </tr>\n",
              "  </tbody>\n",
              "</table>\n",
              "</div>"
            ],
            "text/plain": [
              "             Age  Salary\n",
              "Department              \n",
              "Datascience   21    2750\n",
              "Marketing     23    2000\n",
              "Sales         27    1000"
            ]
          },
          "execution_count": 80,
          "metadata": {},
          "output_type": "execute_result"
        }
      ]
    },
    {
      "cell_type": "markdown",
      "metadata": {
        "id": "nDdZlRUXCewP"
      },
      "source": [
        "## plotting"
      ]
    },
    {
      "cell_type": "code",
      "metadata": {
        "id": "6Cg701SaCewP",
        "outputId": "5711b971-b063-4631-cc50-ee6c2b6904f9"
      },
      "source": [
        "df.plot('Department', 'Salary')"
      ],
      "execution_count": null,
      "outputs": [
        {
          "data": {
            "text/plain": [
              "<AxesSubplot:xlabel='Department'>"
            ]
          },
          "execution_count": 45,
          "metadata": {},
          "output_type": "execute_result"
        },
        {
          "data": {
            "image/png": "[encoded data removed]",
            "text/plain": [
              "<Figure size 432x288 with 1 Axes>"
            ]
          },
          "metadata": {
            "needs_background": "light"
          },
          "output_type": "display_data"
        }
      ]
    },
    {
      "cell_type": "code",
      "metadata": {
        "id": "lcaMfasRCewP",
        "outputId": "5a9aacc4-c5d3-4871-fd07-66daec6ac2cf"
      },
      "source": [
        "df.plot(x= 'Department', y = 'Age', kind= 'bar')"
      ],
      "execution_count": null,
      "outputs": [
        {
          "data": {
            "text/plain": [
              "<AxesSubplot:xlabel='Department'>"
            ]
          },
          "execution_count": 46,
          "metadata": {},
          "output_type": "execute_result"
        },
        {
          "data": {
            "image/png": "[encoded data removed]",
            "text/plain": [
              "<Figure size 432x288 with 1 Axes>"
            ]
          },
          "metadata": {
            "needs_background": "light"
          },
          "output_type": "display_data"
        }
      ]
    },
    {
      "cell_type": "code",
      "metadata": {
        "id": "eOJ1997GCewP",
        "outputId": "f6b747dc-b2a5-4dc1-fee1-a3037f37eb93"
      },
      "source": [
        "df.plot(x = 'Age', y = 'Salary', kind= 'scatter')"
      ],
      "execution_count": null,
      "outputs": [
        {
          "data": {
            "text/plain": [
              "<AxesSubplot:xlabel='Age', ylabel='Salary'>"
            ]
          },
          "execution_count": 47,
          "metadata": {},
          "output_type": "execute_result"
        },
        {
          "data": {
            "image/png": "[encoded data removed]",
            "text/plain": [
              "<Figure size 432x288 with 1 Axes>"
            ]
          },
          "metadata": {
            "needs_background": "light"
          },
          "output_type": "display_data"
        }
      ]
    },
    {
      "cell_type": "markdown",
      "metadata": {
        "id": "wwYOeo9HCewP"
      },
      "source": [
        "## timeseries"
      ]
    },
    {
      "cell_type": "code",
      "metadata": {
        "id": "1_5BgKuLCewP"
      },
      "source": [
        "dates = pd.date_range('20130101', periods=6)\n",
        "df = pd.DataFrame({'Dates':dates})"
      ],
      "execution_count": null,
      "outputs": []
    },
    {
      "cell_type": "code",
      "metadata": {
        "id": "VmN1XqHrCewQ",
        "outputId": "622818d3-4496-4fac-a9e6-da4d5e566647"
      },
      "source": [
        "df"
      ],
      "execution_count": null,
      "outputs": [
        {
          "data": {
            "text/html": [
              "<div>\n",
              "<style scoped>\n",
              "    .dataframe tbody tr th:only-of-type {\n",
              "        vertical-align: middle;\n",
              "    }\n",
              "\n",
              "    .dataframe tbody tr th {\n",
              "        vertical-align: top;\n",
              "    }\n",
              "\n",
              "    .dataframe thead th {\n",
              "        text-align: right;\n",
              "    }\n",
              "</style>\n",
              "<table border=\"1\" class=\"dataframe\">\n",
              "  <thead>\n",
              "    <tr style=\"text-align: right;\">\n",
              "      <th></th>\n",
              "      <th>Dates</th>\n",
              "    </tr>\n",
              "  </thead>\n",
              "  <tbody>\n",
              "    <tr>\n",
              "      <th>0</th>\n",
              "      <td>2013-01-01</td>\n",
              "    </tr>\n",
              "    <tr>\n",
              "      <th>1</th>\n",
              "      <td>2013-01-02</td>\n",
              "    </tr>\n",
              "    <tr>\n",
              "      <th>2</th>\n",
              "      <td>2013-01-03</td>\n",
              "    </tr>\n",
              "    <tr>\n",
              "      <th>3</th>\n",
              "      <td>2013-01-04</td>\n",
              "    </tr>\n",
              "    <tr>\n",
              "      <th>4</th>\n",
              "      <td>2013-01-05</td>\n",
              "    </tr>\n",
              "    <tr>\n",
              "      <th>5</th>\n",
              "      <td>2013-01-06</td>\n",
              "    </tr>\n",
              "  </tbody>\n",
              "</table>\n",
              "</div>"
            ],
            "text/plain": [
              "       Dates\n",
              "0 2013-01-01\n",
              "1 2013-01-02\n",
              "2 2013-01-03\n",
              "3 2013-01-04\n",
              "4 2013-01-05\n",
              "5 2013-01-06"
            ]
          },
          "execution_count": 49,
          "metadata": {},
          "output_type": "execute_result"
        }
      ]
    },
    {
      "cell_type": "code",
      "metadata": {
        "id": "XH_MqtMqCewQ",
        "outputId": "65092254-dd55-4766-d0a7-644ae4c2acdd"
      },
      "source": [
        "df.dtypes"
      ],
      "execution_count": null,
      "outputs": [
        {
          "data": {
            "text/plain": [
              "Dates    datetime64[ns]\n",
              "dtype: object"
            ]
          },
          "execution_count": 50,
          "metadata": {},
          "output_type": "execute_result"
        }
      ]
    },
    {
      "cell_type": "code",
      "metadata": {
        "id": "EST8UvOtCewQ"
      },
      "source": [
        "df['Year'] = df['Dates'].dt.year"
      ],
      "execution_count": null,
      "outputs": []
    },
    {
      "cell_type": "code",
      "metadata": {
        "id": "xJpT2miPCewQ",
        "outputId": "045d1154-47b1-4dd2-a2c4-5424fc929129"
      },
      "source": [
        "df"
      ],
      "execution_count": null,
      "outputs": [
        {
          "data": {
            "text/html": [
              "<div>\n",
              "<style scoped>\n",
              "    .dataframe tbody tr th:only-of-type {\n",
              "        vertical-align: middle;\n",
              "    }\n",
              "\n",
              "    .dataframe tbody tr th {\n",
              "        vertical-align: top;\n",
              "    }\n",
              "\n",
              "    .dataframe thead th {\n",
              "        text-align: right;\n",
              "    }\n",
              "</style>\n",
              "<table border=\"1\" class=\"dataframe\">\n",
              "  <thead>\n",
              "    <tr style=\"text-align: right;\">\n",
              "      <th></th>\n",
              "      <th>Dates</th>\n",
              "      <th>Year</th>\n",
              "    </tr>\n",
              "  </thead>\n",
              "  <tbody>\n",
              "    <tr>\n",
              "      <th>0</th>\n",
              "      <td>2013-01-01</td>\n",
              "      <td>2013</td>\n",
              "    </tr>\n",
              "    <tr>\n",
              "      <th>1</th>\n",
              "      <td>2013-01-02</td>\n",
              "      <td>2013</td>\n",
              "    </tr>\n",
              "    <tr>\n",
              "      <th>2</th>\n",
              "      <td>2013-01-03</td>\n",
              "      <td>2013</td>\n",
              "    </tr>\n",
              "    <tr>\n",
              "      <th>3</th>\n",
              "      <td>2013-01-04</td>\n",
              "      <td>2013</td>\n",
              "    </tr>\n",
              "    <tr>\n",
              "      <th>4</th>\n",
              "      <td>2013-01-05</td>\n",
              "      <td>2013</td>\n",
              "    </tr>\n",
              "    <tr>\n",
              "      <th>5</th>\n",
              "      <td>2013-01-06</td>\n",
              "      <td>2013</td>\n",
              "    </tr>\n",
              "  </tbody>\n",
              "</table>\n",
              "</div>"
            ],
            "text/plain": [
              "       Dates  Year\n",
              "0 2013-01-01  2013\n",
              "1 2013-01-02  2013\n",
              "2 2013-01-03  2013\n",
              "3 2013-01-04  2013\n",
              "4 2013-01-05  2013\n",
              "5 2013-01-06  2013"
            ]
          },
          "execution_count": 52,
          "metadata": {},
          "output_type": "execute_result"
        }
      ]
    },
    {
      "cell_type": "code",
      "metadata": {
        "id": "w5mmeBhhCewQ",
        "outputId": "304ca52d-a5c7-4323-f50c-9eba8f3ed6f8"
      },
      "source": [
        "df['month'] = df['Dates'].dt.month\n",
        "df "
      ],
      "execution_count": null,
      "outputs": [
        {
          "data": {
            "text/html": [
              "<div>\n",
              "<style scoped>\n",
              "    .dataframe tbody tr th:only-of-type {\n",
              "        vertical-align: middle;\n",
              "    }\n",
              "\n",
              "    .dataframe tbody tr th {\n",
              "        vertical-align: top;\n",
              "    }\n",
              "\n",
              "    .dataframe thead th {\n",
              "        text-align: right;\n",
              "    }\n",
              "</style>\n",
              "<table border=\"1\" class=\"dataframe\">\n",
              "  <thead>\n",
              "    <tr style=\"text-align: right;\">\n",
              "      <th></th>\n",
              "      <th>Dates</th>\n",
              "      <th>Year</th>\n",
              "      <th>month</th>\n",
              "    </tr>\n",
              "  </thead>\n",
              "  <tbody>\n",
              "    <tr>\n",
              "      <th>0</th>\n",
              "      <td>2013-01-01</td>\n",
              "      <td>2013</td>\n",
              "      <td>1</td>\n",
              "    </tr>\n",
              "    <tr>\n",
              "      <th>1</th>\n",
              "      <td>2013-01-02</td>\n",
              "      <td>2013</td>\n",
              "      <td>1</td>\n",
              "    </tr>\n",
              "    <tr>\n",
              "      <th>2</th>\n",
              "      <td>2013-01-03</td>\n",
              "      <td>2013</td>\n",
              "      <td>1</td>\n",
              "    </tr>\n",
              "    <tr>\n",
              "      <th>3</th>\n",
              "      <td>2013-01-04</td>\n",
              "      <td>2013</td>\n",
              "      <td>1</td>\n",
              "    </tr>\n",
              "    <tr>\n",
              "      <th>4</th>\n",
              "      <td>2013-01-05</td>\n",
              "      <td>2013</td>\n",
              "      <td>1</td>\n",
              "    </tr>\n",
              "    <tr>\n",
              "      <th>5</th>\n",
              "      <td>2013-01-06</td>\n",
              "      <td>2013</td>\n",
              "      <td>1</td>\n",
              "    </tr>\n",
              "  </tbody>\n",
              "</table>\n",
              "</div>"
            ],
            "text/plain": [
              "       Dates  Year  month\n",
              "0 2013-01-01  2013      1\n",
              "1 2013-01-02  2013      1\n",
              "2 2013-01-03  2013      1\n",
              "3 2013-01-04  2013      1\n",
              "4 2013-01-05  2013      1\n",
              "5 2013-01-06  2013      1"
            ]
          },
          "execution_count": 53,
          "metadata": {},
          "output_type": "execute_result"
        }
      ]
    },
    {
      "cell_type": "code",
      "metadata": {
        "id": "D_J25W8cCewQ",
        "outputId": "ae594278-02a3-418a-c88f-4881e65b352c"
      },
      "source": [
        "df['dates'] = df['Dates'].dt.day\n",
        "df"
      ],
      "execution_count": null,
      "outputs": [
        {
          "data": {
            "text/html": [
              "<div>\n",
              "<style scoped>\n",
              "    .dataframe tbody tr th:only-of-type {\n",
              "        vertical-align: middle;\n",
              "    }\n",
              "\n",
              "    .dataframe tbody tr th {\n",
              "        vertical-align: top;\n",
              "    }\n",
              "\n",
              "    .dataframe thead th {\n",
              "        text-align: right;\n",
              "    }\n",
              "</style>\n",
              "<table border=\"1\" class=\"dataframe\">\n",
              "  <thead>\n",
              "    <tr style=\"text-align: right;\">\n",
              "      <th></th>\n",
              "      <th>Dates</th>\n",
              "      <th>Year</th>\n",
              "      <th>month</th>\n",
              "      <th>dates</th>\n",
              "    </tr>\n",
              "  </thead>\n",
              "  <tbody>\n",
              "    <tr>\n",
              "      <th>0</th>\n",
              "      <td>2013-01-01</td>\n",
              "      <td>2013</td>\n",
              "      <td>1</td>\n",
              "      <td>1</td>\n",
              "    </tr>\n",
              "    <tr>\n",
              "      <th>1</th>\n",
              "      <td>2013-01-02</td>\n",
              "      <td>2013</td>\n",
              "      <td>1</td>\n",
              "      <td>2</td>\n",
              "    </tr>\n",
              "    <tr>\n",
              "      <th>2</th>\n",
              "      <td>2013-01-03</td>\n",
              "      <td>2013</td>\n",
              "      <td>1</td>\n",
              "      <td>3</td>\n",
              "    </tr>\n",
              "    <tr>\n",
              "      <th>3</th>\n",
              "      <td>2013-01-04</td>\n",
              "      <td>2013</td>\n",
              "      <td>1</td>\n",
              "      <td>4</td>\n",
              "    </tr>\n",
              "    <tr>\n",
              "      <th>4</th>\n",
              "      <td>2013-01-05</td>\n",
              "      <td>2013</td>\n",
              "      <td>1</td>\n",
              "      <td>5</td>\n",
              "    </tr>\n",
              "    <tr>\n",
              "      <th>5</th>\n",
              "      <td>2013-01-06</td>\n",
              "      <td>2013</td>\n",
              "      <td>1</td>\n",
              "      <td>6</td>\n",
              "    </tr>\n",
              "  </tbody>\n",
              "</table>\n",
              "</div>"
            ],
            "text/plain": [
              "       Dates  Year  month  dates\n",
              "0 2013-01-01  2013      1      1\n",
              "1 2013-01-02  2013      1      2\n",
              "2 2013-01-03  2013      1      3\n",
              "3 2013-01-04  2013      1      4\n",
              "4 2013-01-05  2013      1      5\n",
              "5 2013-01-06  2013      1      6"
            ]
          },
          "execution_count": 54,
          "metadata": {},
          "output_type": "execute_result"
        }
      ]
    },
    {
      "cell_type": "code",
      "metadata": {
        "id": "W1JHx1z4CewR",
        "outputId": "5053dea4-d397-4c94-9662-0fab3cbeebcd"
      },
      "source": [
        "df['week'] = df['Dates'].dt.week\n",
        "df"
      ],
      "execution_count": null,
      "outputs": [
        {
          "name": "stderr",
          "output_type": "stream",
          "text": [
            "C:\\Users\\bepec\\AppData\\Local\\Temp/ipykernel_9124/7948729.py:1: FutureWarning: Series.dt.weekofyear and Series.dt.week have been deprecated.  Please use Series.dt.isocalendar().week instead.\n",
            "  df['week'] = df['Dates'].dt.week\n"
          ]
        },
        {
          "data": {
            "text/html": [
              "<div>\n",
              "<style scoped>\n",
              "    .dataframe tbody tr th:only-of-type {\n",
              "        vertical-align: middle;\n",
              "    }\n",
              "\n",
              "    .dataframe tbody tr th {\n",
              "        vertical-align: top;\n",
              "    }\n",
              "\n",
              "    .dataframe thead th {\n",
              "        text-align: right;\n",
              "    }\n",
              "</style>\n",
              "<table border=\"1\" class=\"dataframe\">\n",
              "  <thead>\n",
              "    <tr style=\"text-align: right;\">\n",
              "      <th></th>\n",
              "      <th>Dates</th>\n",
              "      <th>Year</th>\n",
              "      <th>month</th>\n",
              "      <th>dates</th>\n",
              "      <th>week</th>\n",
              "    </tr>\n",
              "  </thead>\n",
              "  <tbody>\n",
              "    <tr>\n",
              "      <th>0</th>\n",
              "      <td>2013-01-01</td>\n",
              "      <td>2013</td>\n",
              "      <td>1</td>\n",
              "      <td>1</td>\n",
              "      <td>1</td>\n",
              "    </tr>\n",
              "    <tr>\n",
              "      <th>1</th>\n",
              "      <td>2013-01-02</td>\n",
              "      <td>2013</td>\n",
              "      <td>1</td>\n",
              "      <td>2</td>\n",
              "      <td>1</td>\n",
              "    </tr>\n",
              "    <tr>\n",
              "      <th>2</th>\n",
              "      <td>2013-01-03</td>\n",
              "      <td>2013</td>\n",
              "      <td>1</td>\n",
              "      <td>3</td>\n",
              "      <td>1</td>\n",
              "    </tr>\n",
              "    <tr>\n",
              "      <th>3</th>\n",
              "      <td>2013-01-04</td>\n",
              "      <td>2013</td>\n",
              "      <td>1</td>\n",
              "      <td>4</td>\n",
              "      <td>1</td>\n",
              "    </tr>\n",
              "    <tr>\n",
              "      <th>4</th>\n",
              "      <td>2013-01-05</td>\n",
              "      <td>2013</td>\n",
              "      <td>1</td>\n",
              "      <td>5</td>\n",
              "      <td>1</td>\n",
              "    </tr>\n",
              "    <tr>\n",
              "      <th>5</th>\n",
              "      <td>2013-01-06</td>\n",
              "      <td>2013</td>\n",
              "      <td>1</td>\n",
              "      <td>6</td>\n",
              "      <td>1</td>\n",
              "    </tr>\n",
              "  </tbody>\n",
              "</table>\n",
              "</div>"
            ],
            "text/plain": [
              "       Dates  Year  month  dates  week\n",
              "0 2013-01-01  2013      1      1     1\n",
              "1 2013-01-02  2013      1      2     1\n",
              "2 2013-01-03  2013      1      3     1\n",
              "3 2013-01-04  2013      1      4     1\n",
              "4 2013-01-05  2013      1      5     1\n",
              "5 2013-01-06  2013      1      6     1"
            ]
          },
          "execution_count": 55,
          "metadata": {},
          "output_type": "execute_result"
        }
      ]
    },
    {
      "cell_type": "markdown",
      "metadata": {
        "id": "W9dDnnPtCewR"
      },
      "source": [
        "# DataFrame Styling"
      ]
    },
    {
      "cell_type": "code",
      "metadata": {
        "id": "Z20e8MLOCewR"
      },
      "source": [
        "df = pd.DataFrame({'Name': {0: 'John', 1: 'Mike', 2: 'jesse', 3:'adola'},\n",
        "                   'Gender':{0:'male', 1:'male', 2:'female', 3:'female'},\n",
        "                   'Department':{0:'Sales', 1:'Marketing', 2:'Datascience', 3:'Datascience'},\n",
        "                   'Age': {0: 27, 1: 23, 2: 21, 3:25},\n",
        "                   'Salary':{0:1000, 1:2000, 2:3000, 3:2500}})"
      ],
      "execution_count": null,
      "outputs": []
    },
    {
      "cell_type": "code",
      "metadata": {
        "id": "QqaZod0ACewR",
        "outputId": "2b59a266-87ae-47e9-a6db-131a177c0971"
      },
      "source": [
        "df.style.highlight_max(color ='lightblue')\n"
      ],
      "execution_count": null,
      "outputs": [
        {
          "data": {
            "text/html": [
              "<style  type=\"text/css\" >\n",
              "#T_a1172_row0_col3,#T_a1172_row2_col4{\n",
              "            background-color:  lightblue;\n",
              "        }</style><table id=\"T_a1172_\" ><thead>    <tr>        <th class=\"blank level0\" ></th>        <th class=\"col_heading level0 col0\" >Name</th>        <th class=\"col_heading level0 col1\" >Gender</th>        <th class=\"col_heading level0 col2\" >Department</th>        <th class=\"col_heading level0 col3\" >Age</th>        <th class=\"col_heading level0 col4\" >Salary</th>    </tr></thead><tbody>\n",
              "                <tr>\n",
              "                        <th id=\"T_a1172_level0_row0\" class=\"row_heading level0 row0\" >0</th>\n",
              "                        <td id=\"T_a1172_row0_col0\" class=\"data row0 col0\" >John</td>\n",
              "                        <td id=\"T_a1172_row0_col1\" class=\"data row0 col1\" >male</td>\n",
              "                        <td id=\"T_a1172_row0_col2\" class=\"data row0 col2\" >Sales</td>\n",
              "                        <td id=\"T_a1172_row0_col3\" class=\"data row0 col3\" >27</td>\n",
              "                        <td id=\"T_a1172_row0_col4\" class=\"data row0 col4\" >1000</td>\n",
              "            </tr>\n",
              "            <tr>\n",
              "                        <th id=\"T_a1172_level0_row1\" class=\"row_heading level0 row1\" >1</th>\n",
              "                        <td id=\"T_a1172_row1_col0\" class=\"data row1 col0\" >Mike</td>\n",
              "                        <td id=\"T_a1172_row1_col1\" class=\"data row1 col1\" >male</td>\n",
              "                        <td id=\"T_a1172_row1_col2\" class=\"data row1 col2\" >Marketing</td>\n",
              "                        <td id=\"T_a1172_row1_col3\" class=\"data row1 col3\" >23</td>\n",
              "                        <td id=\"T_a1172_row1_col4\" class=\"data row1 col4\" >2000</td>\n",
              "            </tr>\n",
              "            <tr>\n",
              "                        <th id=\"T_a1172_level0_row2\" class=\"row_heading level0 row2\" >2</th>\n",
              "                        <td id=\"T_a1172_row2_col0\" class=\"data row2 col0\" >jesse</td>\n",
              "                        <td id=\"T_a1172_row2_col1\" class=\"data row2 col1\" >female</td>\n",
              "                        <td id=\"T_a1172_row2_col2\" class=\"data row2 col2\" >Datascience</td>\n",
              "                        <td id=\"T_a1172_row2_col3\" class=\"data row2 col3\" >21</td>\n",
              "                        <td id=\"T_a1172_row2_col4\" class=\"data row2 col4\" >3000</td>\n",
              "            </tr>\n",
              "            <tr>\n",
              "                        <th id=\"T_a1172_level0_row3\" class=\"row_heading level0 row3\" >3</th>\n",
              "                        <td id=\"T_a1172_row3_col0\" class=\"data row3 col0\" >adola</td>\n",
              "                        <td id=\"T_a1172_row3_col1\" class=\"data row3 col1\" >female</td>\n",
              "                        <td id=\"T_a1172_row3_col2\" class=\"data row3 col2\" >Datascience</td>\n",
              "                        <td id=\"T_a1172_row3_col3\" class=\"data row3 col3\" >25</td>\n",
              "                        <td id=\"T_a1172_row3_col4\" class=\"data row3 col4\" >2500</td>\n",
              "            </tr>\n",
              "    </tbody></table>"
            ],
            "text/plain": [
              "<pandas.io.formats.style.Styler at 0x18d2ab2e580>"
            ]
          },
          "execution_count": 57,
          "metadata": {},
          "output_type": "execute_result"
        }
      ]
    },
    {
      "cell_type": "code",
      "metadata": {
        "id": "0vsOemVhCewR",
        "outputId": "ef87c2b0-c23b-4996-ae8d-54250bce941e"
      },
      "source": [
        "df.style.highlight_min(color=  \"red\")"
      ],
      "execution_count": null,
      "outputs": [
        {
          "data": {
            "text/html": [
              "<style  type=\"text/css\" >\n",
              "#T_0a86e_row0_col4,#T_0a86e_row2_col3{\n",
              "            background-color:  red;\n",
              "        }</style><table id=\"T_0a86e_\" ><thead>    <tr>        <th class=\"blank level0\" ></th>        <th class=\"col_heading level0 col0\" >Name</th>        <th class=\"col_heading level0 col1\" >Gender</th>        <th class=\"col_heading level0 col2\" >Department</th>        <th class=\"col_heading level0 col3\" >Age</th>        <th class=\"col_heading level0 col4\" >Salary</th>    </tr></thead><tbody>\n",
              "                <tr>\n",
              "                        <th id=\"T_0a86e_level0_row0\" class=\"row_heading level0 row0\" >0</th>\n",
              "                        <td id=\"T_0a86e_row0_col0\" class=\"data row0 col0\" >John</td>\n",
              "                        <td id=\"T_0a86e_row0_col1\" class=\"data row0 col1\" >male</td>\n",
              "                        <td id=\"T_0a86e_row0_col2\" class=\"data row0 col2\" >Sales</td>\n",
              "                        <td id=\"T_0a86e_row0_col3\" class=\"data row0 col3\" >27</td>\n",
              "                        <td id=\"T_0a86e_row0_col4\" class=\"data row0 col4\" >1000</td>\n",
              "            </tr>\n",
              "            <tr>\n",
              "                        <th id=\"T_0a86e_level0_row1\" class=\"row_heading level0 row1\" >1</th>\n",
              "                        <td id=\"T_0a86e_row1_col0\" class=\"data row1 col0\" >Mike</td>\n",
              "                        <td id=\"T_0a86e_row1_col1\" class=\"data row1 col1\" >male</td>\n",
              "                        <td id=\"T_0a86e_row1_col2\" class=\"data row1 col2\" >Marketing</td>\n",
              "                        <td id=\"T_0a86e_row1_col3\" class=\"data row1 col3\" >23</td>\n",
              "                        <td id=\"T_0a86e_row1_col4\" class=\"data row1 col4\" >2000</td>\n",
              "            </tr>\n",
              "            <tr>\n",
              "                        <th id=\"T_0a86e_level0_row2\" class=\"row_heading level0 row2\" >2</th>\n",
              "                        <td id=\"T_0a86e_row2_col0\" class=\"data row2 col0\" >jesse</td>\n",
              "                        <td id=\"T_0a86e_row2_col1\" class=\"data row2 col1\" >female</td>\n",
              "                        <td id=\"T_0a86e_row2_col2\" class=\"data row2 col2\" >Datascience</td>\n",
              "                        <td id=\"T_0a86e_row2_col3\" class=\"data row2 col3\" >21</td>\n",
              "                        <td id=\"T_0a86e_row2_col4\" class=\"data row2 col4\" >3000</td>\n",
              "            </tr>\n",
              "            <tr>\n",
              "                        <th id=\"T_0a86e_level0_row3\" class=\"row_heading level0 row3\" >3</th>\n",
              "                        <td id=\"T_0a86e_row3_col0\" class=\"data row3 col0\" >adola</td>\n",
              "                        <td id=\"T_0a86e_row3_col1\" class=\"data row3 col1\" >female</td>\n",
              "                        <td id=\"T_0a86e_row3_col2\" class=\"data row3 col2\" >Datascience</td>\n",
              "                        <td id=\"T_0a86e_row3_col3\" class=\"data row3 col3\" >25</td>\n",
              "                        <td id=\"T_0a86e_row3_col4\" class=\"data row3 col4\" >2500</td>\n",
              "            </tr>\n",
              "    </tbody></table>"
            ],
            "text/plain": [
              "<pandas.io.formats.style.Styler at 0x18d2af89ca0>"
            ]
          },
          "execution_count": 58,
          "metadata": {},
          "output_type": "execute_result"
        }
      ]
    },
    {
      "cell_type": "code",
      "metadata": {
        "id": "9MQWDjwzCewR",
        "outputId": "896bfcef-e424-46d6-cc08-ada33019c7e0"
      },
      "source": [
        "df.style.highlight_max(color ='lightblue').highlight_min(color=  \"red\")"
      ],
      "execution_count": null,
      "outputs": [
        {
          "data": {
            "text/html": [
              "<style  type=\"text/css\" >\n",
              "#T_f5ed9_row0_col3,#T_f5ed9_row2_col4{\n",
              "            background-color:  lightblue;\n",
              "        }#T_f5ed9_row0_col4,#T_f5ed9_row2_col3{\n",
              "            background-color:  red;\n",
              "        }</style><table id=\"T_f5ed9_\" ><thead>    <tr>        <th class=\"blank level0\" ></th>        <th class=\"col_heading level0 col0\" >Name</th>        <th class=\"col_heading level0 col1\" >Gender</th>        <th class=\"col_heading level0 col2\" >Department</th>        <th class=\"col_heading level0 col3\" >Age</th>        <th class=\"col_heading level0 col4\" >Salary</th>    </tr></thead><tbody>\n",
              "                <tr>\n",
              "                        <th id=\"T_f5ed9_level0_row0\" class=\"row_heading level0 row0\" >0</th>\n",
              "                        <td id=\"T_f5ed9_row0_col0\" class=\"data row0 col0\" >John</td>\n",
              "                        <td id=\"T_f5ed9_row0_col1\" class=\"data row0 col1\" >male</td>\n",
              "                        <td id=\"T_f5ed9_row0_col2\" class=\"data row0 col2\" >Sales</td>\n",
              "                        <td id=\"T_f5ed9_row0_col3\" class=\"data row0 col3\" >27</td>\n",
              "                        <td id=\"T_f5ed9_row0_col4\" class=\"data row0 col4\" >1000</td>\n",
              "            </tr>\n",
              "            <tr>\n",
              "                        <th id=\"T_f5ed9_level0_row1\" class=\"row_heading level0 row1\" >1</th>\n",
              "                        <td id=\"T_f5ed9_row1_col0\" class=\"data row1 col0\" >Mike</td>\n",
              "                        <td id=\"T_f5ed9_row1_col1\" class=\"data row1 col1\" >male</td>\n",
              "                        <td id=\"T_f5ed9_row1_col2\" class=\"data row1 col2\" >Marketing</td>\n",
              "                        <td id=\"T_f5ed9_row1_col3\" class=\"data row1 col3\" >23</td>\n",
              "                        <td id=\"T_f5ed9_row1_col4\" class=\"data row1 col4\" >2000</td>\n",
              "            </tr>\n",
              "            <tr>\n",
              "                        <th id=\"T_f5ed9_level0_row2\" class=\"row_heading level0 row2\" >2</th>\n",
              "                        <td id=\"T_f5ed9_row2_col0\" class=\"data row2 col0\" >jesse</td>\n",
              "                        <td id=\"T_f5ed9_row2_col1\" class=\"data row2 col1\" >female</td>\n",
              "                        <td id=\"T_f5ed9_row2_col2\" class=\"data row2 col2\" >Datascience</td>\n",
              "                        <td id=\"T_f5ed9_row2_col3\" class=\"data row2 col3\" >21</td>\n",
              "                        <td id=\"T_f5ed9_row2_col4\" class=\"data row2 col4\" >3000</td>\n",
              "            </tr>\n",
              "            <tr>\n",
              "                        <th id=\"T_f5ed9_level0_row3\" class=\"row_heading level0 row3\" >3</th>\n",
              "                        <td id=\"T_f5ed9_row3_col0\" class=\"data row3 col0\" >adola</td>\n",
              "                        <td id=\"T_f5ed9_row3_col1\" class=\"data row3 col1\" >female</td>\n",
              "                        <td id=\"T_f5ed9_row3_col2\" class=\"data row3 col2\" >Datascience</td>\n",
              "                        <td id=\"T_f5ed9_row3_col3\" class=\"data row3 col3\" >25</td>\n",
              "                        <td id=\"T_f5ed9_row3_col4\" class=\"data row3 col4\" >2500</td>\n",
              "            </tr>\n",
              "    </tbody></table>"
            ],
            "text/plain": [
              "<pandas.io.formats.style.Styler at 0x18d2afc9d60>"
            ]
          },
          "execution_count": 59,
          "metadata": {},
          "output_type": "execute_result"
        }
      ]
    },
    {
      "cell_type": "code",
      "metadata": {
        "id": "GMNkSldVCewR"
      },
      "source": [
        "df = pd.DataFrame({'Name': {0: 'John', 1: 'Mike', 2: 'jesse', 3:'adola'},\n",
        "                   'Gender':{0:'male', 1:'male', 2:'female', 3:'female'},\n",
        "                   'Department':{0:'Sales', 1:'Marketing', 2:'Datascience', 3:'Datascience'},\n",
        "                   'Age': {0: 27, 1: None, 2: 21, 3:25},\n",
        "                   'Salary':{0:1000, 1:2000, 2:3000, 3:None}})"
      ],
      "execution_count": null,
      "outputs": []
    },
    {
      "cell_type": "code",
      "metadata": {
        "id": "cm5qV4rgCewS",
        "outputId": "cd131c8c-9bcb-4591-e740-52e57a5d3da3"
      },
      "source": [
        "df.style.highlight_null(null_color= \"yellow\")"
      ],
      "execution_count": null,
      "outputs": [
        {
          "data": {
            "text/html": [
              "<style  type=\"text/css\" >\n",
              "#T_6853c_row1_col3,#T_6853c_row3_col4{\n",
              "            background-color:  yellow;\n",
              "        }</style><table id=\"T_6853c_\" ><thead>    <tr>        <th class=\"blank level0\" ></th>        <th class=\"col_heading level0 col0\" >Name</th>        <th class=\"col_heading level0 col1\" >Gender</th>        <th class=\"col_heading level0 col2\" >Department</th>        <th class=\"col_heading level0 col3\" >Age</th>        <th class=\"col_heading level0 col4\" >Salary</th>    </tr></thead><tbody>\n",
              "                <tr>\n",
              "                        <th id=\"T_6853c_level0_row0\" class=\"row_heading level0 row0\" >0</th>\n",
              "                        <td id=\"T_6853c_row0_col0\" class=\"data row0 col0\" >John</td>\n",
              "                        <td id=\"T_6853c_row0_col1\" class=\"data row0 col1\" >male</td>\n",
              "                        <td id=\"T_6853c_row0_col2\" class=\"data row0 col2\" >Sales</td>\n",
              "                        <td id=\"T_6853c_row0_col3\" class=\"data row0 col3\" >27.000000</td>\n",
              "                        <td id=\"T_6853c_row0_col4\" class=\"data row0 col4\" >1000.000000</td>\n",
              "            </tr>\n",
              "            <tr>\n",
              "                        <th id=\"T_6853c_level0_row1\" class=\"row_heading level0 row1\" >1</th>\n",
              "                        <td id=\"T_6853c_row1_col0\" class=\"data row1 col0\" >Mike</td>\n",
              "                        <td id=\"T_6853c_row1_col1\" class=\"data row1 col1\" >male</td>\n",
              "                        <td id=\"T_6853c_row1_col2\" class=\"data row1 col2\" >Marketing</td>\n",
              "                        <td id=\"T_6853c_row1_col3\" class=\"data row1 col3\" >nan</td>\n",
              "                        <td id=\"T_6853c_row1_col4\" class=\"data row1 col4\" >2000.000000</td>\n",
              "            </tr>\n",
              "            <tr>\n",
              "                        <th id=\"T_6853c_level0_row2\" class=\"row_heading level0 row2\" >2</th>\n",
              "                        <td id=\"T_6853c_row2_col0\" class=\"data row2 col0\" >jesse</td>\n",
              "                        <td id=\"T_6853c_row2_col1\" class=\"data row2 col1\" >female</td>\n",
              "                        <td id=\"T_6853c_row2_col2\" class=\"data row2 col2\" >Datascience</td>\n",
              "                        <td id=\"T_6853c_row2_col3\" class=\"data row2 col3\" >21.000000</td>\n",
              "                        <td id=\"T_6853c_row2_col4\" class=\"data row2 col4\" >3000.000000</td>\n",
              "            </tr>\n",
              "            <tr>\n",
              "                        <th id=\"T_6853c_level0_row3\" class=\"row_heading level0 row3\" >3</th>\n",
              "                        <td id=\"T_6853c_row3_col0\" class=\"data row3 col0\" >adola</td>\n",
              "                        <td id=\"T_6853c_row3_col1\" class=\"data row3 col1\" >female</td>\n",
              "                        <td id=\"T_6853c_row3_col2\" class=\"data row3 col2\" >Datascience</td>\n",
              "                        <td id=\"T_6853c_row3_col3\" class=\"data row3 col3\" >25.000000</td>\n",
              "                        <td id=\"T_6853c_row3_col4\" class=\"data row3 col4\" >nan</td>\n",
              "            </tr>\n",
              "    </tbody></table>"
            ],
            "text/plain": [
              "<pandas.io.formats.style.Styler at 0x18d2afc9c70>"
            ]
          },
          "execution_count": 61,
          "metadata": {},
          "output_type": "execute_result"
        }
      ]
    },
    {
      "cell_type": "code",
      "metadata": {
        "id": "Waj7N4yPCewS",
        "outputId": "54997131-bb25-4784-de16-3c6f4141d18b"
      },
      "source": [
        "df.style.background_gradient(cmap= \"cubehelix_r\")"
      ],
      "execution_count": null,
      "outputs": [
        {
          "data": {
            "text/html": [
              "<style  type=\"text/css\" >\n",
              "#T_ea324_row0_col3,#T_ea324_row1_col3,#T_ea324_row2_col4,#T_ea324_row3_col4{\n",
              "            background-color:  #000000;\n",
              "            color:  #f1f1f1;\n",
              "        }#T_ea324_row0_col4,#T_ea324_row2_col3{\n",
              "            background-color:  #ffffff;\n",
              "            color:  #000000;\n",
              "        }#T_ea324_row1_col4{\n",
              "            background-color:  #9f7948;\n",
              "            color:  #000000;\n",
              "        }#T_ea324_row3_col3{\n",
              "            background-color:  #2b6f39;\n",
              "            color:  #f1f1f1;\n",
              "        }</style><table id=\"T_ea324_\" ><thead>    <tr>        <th class=\"blank level0\" ></th>        <th class=\"col_heading level0 col0\" >Name</th>        <th class=\"col_heading level0 col1\" >Gender</th>        <th class=\"col_heading level0 col2\" >Department</th>        <th class=\"col_heading level0 col3\" >Age</th>        <th class=\"col_heading level0 col4\" >Salary</th>    </tr></thead><tbody>\n",
              "                <tr>\n",
              "                        <th id=\"T_ea324_level0_row0\" class=\"row_heading level0 row0\" >0</th>\n",
              "                        <td id=\"T_ea324_row0_col0\" class=\"data row0 col0\" >John</td>\n",
              "                        <td id=\"T_ea324_row0_col1\" class=\"data row0 col1\" >male</td>\n",
              "                        <td id=\"T_ea324_row0_col2\" class=\"data row0 col2\" >Sales</td>\n",
              "                        <td id=\"T_ea324_row0_col3\" class=\"data row0 col3\" >27.000000</td>\n",
              "                        <td id=\"T_ea324_row0_col4\" class=\"data row0 col4\" >1000.000000</td>\n",
              "            </tr>\n",
              "            <tr>\n",
              "                        <th id=\"T_ea324_level0_row1\" class=\"row_heading level0 row1\" >1</th>\n",
              "                        <td id=\"T_ea324_row1_col0\" class=\"data row1 col0\" >Mike</td>\n",
              "                        <td id=\"T_ea324_row1_col1\" class=\"data row1 col1\" >male</td>\n",
              "                        <td id=\"T_ea324_row1_col2\" class=\"data row1 col2\" >Marketing</td>\n",
              "                        <td id=\"T_ea324_row1_col3\" class=\"data row1 col3\" >nan</td>\n",
              "                        <td id=\"T_ea324_row1_col4\" class=\"data row1 col4\" >2000.000000</td>\n",
              "            </tr>\n",
              "            <tr>\n",
              "                        <th id=\"T_ea324_level0_row2\" class=\"row_heading level0 row2\" >2</th>\n",
              "                        <td id=\"T_ea324_row2_col0\" class=\"data row2 col0\" >jesse</td>\n",
              "                        <td id=\"T_ea324_row2_col1\" class=\"data row2 col1\" >female</td>\n",
              "                        <td id=\"T_ea324_row2_col2\" class=\"data row2 col2\" >Datascience</td>\n",
              "                        <td id=\"T_ea324_row2_col3\" class=\"data row2 col3\" >21.000000</td>\n",
              "                        <td id=\"T_ea324_row2_col4\" class=\"data row2 col4\" >3000.000000</td>\n",
              "            </tr>\n",
              "            <tr>\n",
              "                        <th id=\"T_ea324_level0_row3\" class=\"row_heading level0 row3\" >3</th>\n",
              "                        <td id=\"T_ea324_row3_col0\" class=\"data row3 col0\" >adola</td>\n",
              "                        <td id=\"T_ea324_row3_col1\" class=\"data row3 col1\" >female</td>\n",
              "                        <td id=\"T_ea324_row3_col2\" class=\"data row3 col2\" >Datascience</td>\n",
              "                        <td id=\"T_ea324_row3_col3\" class=\"data row3 col3\" >25.000000</td>\n",
              "                        <td id=\"T_ea324_row3_col4\" class=\"data row3 col4\" >nan</td>\n",
              "            </tr>\n",
              "    </tbody></table>"
            ],
            "text/plain": [
              "<pandas.io.formats.style.Styler at 0x18d2afd6250>"
            ]
          },
          "execution_count": 62,
          "metadata": {},
          "output_type": "execute_result"
        }
      ]
    },
    {
      "cell_type": "code",
      "metadata": {
        "id": "blVd110lCewS",
        "outputId": "97e8b2f7-9593-46db-ea7d-c1c61786890c"
      },
      "source": [
        "df.style.bar(color= \"red\")"
      ],
      "execution_count": null,
      "outputs": [
        {
          "data": {
            "text/html": [
              "<style  type=\"text/css\" >\n",
              "#T_c52a0_row0_col3,#T_c52a0_row2_col4{\n",
              "            width:  10em;\n",
              "             height:  80%;\n",
              "            background:  linear-gradient(90deg,red 100.0%, transparent 100.0%);\n",
              "        }#T_c52a0_row0_col4,#T_c52a0_row2_col3{\n",
              "            width:  10em;\n",
              "             height:  80%;\n",
              "        }#T_c52a0_row1_col4{\n",
              "            width:  10em;\n",
              "             height:  80%;\n",
              "            background:  linear-gradient(90deg,red 50.0%, transparent 50.0%);\n",
              "        }#T_c52a0_row3_col3{\n",
              "            width:  10em;\n",
              "             height:  80%;\n",
              "            background:  linear-gradient(90deg,red 66.7%, transparent 66.7%);\n",
              "        }</style><table id=\"T_c52a0_\" ><thead>    <tr>        <th class=\"blank level0\" ></th>        <th class=\"col_heading level0 col0\" >Name</th>        <th class=\"col_heading level0 col1\" >Gender</th>        <th class=\"col_heading level0 col2\" >Department</th>        <th class=\"col_heading level0 col3\" >Age</th>        <th class=\"col_heading level0 col4\" >Salary</th>    </tr></thead><tbody>\n",
              "                <tr>\n",
              "                        <th id=\"T_c52a0_level0_row0\" class=\"row_heading level0 row0\" >0</th>\n",
              "                        <td id=\"T_c52a0_row0_col0\" class=\"data row0 col0\" >John</td>\n",
              "                        <td id=\"T_c52a0_row0_col1\" class=\"data row0 col1\" >male</td>\n",
              "                        <td id=\"T_c52a0_row0_col2\" class=\"data row0 col2\" >Sales</td>\n",
              "                        <td id=\"T_c52a0_row0_col3\" class=\"data row0 col3\" >27.000000</td>\n",
              "                        <td id=\"T_c52a0_row0_col4\" class=\"data row0 col4\" >1000.000000</td>\n",
              "            </tr>\n",
              "            <tr>\n",
              "                        <th id=\"T_c52a0_level0_row1\" class=\"row_heading level0 row1\" >1</th>\n",
              "                        <td id=\"T_c52a0_row1_col0\" class=\"data row1 col0\" >Mike</td>\n",
              "                        <td id=\"T_c52a0_row1_col1\" class=\"data row1 col1\" >male</td>\n",
              "                        <td id=\"T_c52a0_row1_col2\" class=\"data row1 col2\" >Marketing</td>\n",
              "                        <td id=\"T_c52a0_row1_col3\" class=\"data row1 col3\" >nan</td>\n",
              "                        <td id=\"T_c52a0_row1_col4\" class=\"data row1 col4\" >2000.000000</td>\n",
              "            </tr>\n",
              "            <tr>\n",
              "                        <th id=\"T_c52a0_level0_row2\" class=\"row_heading level0 row2\" >2</th>\n",
              "                        <td id=\"T_c52a0_row2_col0\" class=\"data row2 col0\" >jesse</td>\n",
              "                        <td id=\"T_c52a0_row2_col1\" class=\"data row2 col1\" >female</td>\n",
              "                        <td id=\"T_c52a0_row2_col2\" class=\"data row2 col2\" >Datascience</td>\n",
              "                        <td id=\"T_c52a0_row2_col3\" class=\"data row2 col3\" >21.000000</td>\n",
              "                        <td id=\"T_c52a0_row2_col4\" class=\"data row2 col4\" >3000.000000</td>\n",
              "            </tr>\n",
              "            <tr>\n",
              "                        <th id=\"T_c52a0_level0_row3\" class=\"row_heading level0 row3\" >3</th>\n",
              "                        <td id=\"T_c52a0_row3_col0\" class=\"data row3 col0\" >adola</td>\n",
              "                        <td id=\"T_c52a0_row3_col1\" class=\"data row3 col1\" >female</td>\n",
              "                        <td id=\"T_c52a0_row3_col2\" class=\"data row3 col2\" >Datascience</td>\n",
              "                        <td id=\"T_c52a0_row3_col3\" class=\"data row3 col3\" >25.000000</td>\n",
              "                        <td id=\"T_c52a0_row3_col4\" class=\"data row3 col4\" >nan</td>\n",
              "            </tr>\n",
              "    </tbody></table>"
            ],
            "text/plain": [
              "<pandas.io.formats.style.Styler at 0x18d2afd4c70>"
            ]
          },
          "execution_count": 63,
          "metadata": {},
          "output_type": "execute_result"
        }
      ]
    },
    {
      "cell_type": "markdown",
      "metadata": {
        "id": "ZmXPhmDgCewS"
      },
      "source": [
        "# Reshaping"
      ]
    },
    {
      "cell_type": "markdown",
      "metadata": {
        "id": "6SnwRa37CewS"
      },
      "source": [
        "## Melt"
      ]
    },
    {
      "cell_type": "code",
      "metadata": {
        "id": "enJkdXf_CewS",
        "outputId": "13ccd621-639b-4d5c-91c9-ebfa5f5f1dec"
      },
      "source": [
        "import pandas as pd\n",
        "  \n",
        "# creating a dataframe\n",
        "df = pd.DataFrame({'Name': {0: 'John', 1: 'Mike', 2: 'jesse'},\n",
        "                   'Age': {0: 27, 1: 23, 2: 21},\n",
        "                   'Salary':{0:1000, 1:2000, 2:3000}})\n",
        "df"
      ],
      "execution_count": null,
      "outputs": [
        {
          "data": {
            "text/html": [
              "<div>\n",
              "<style scoped>\n",
              "    .dataframe tbody tr th:only-of-type {\n",
              "        vertical-align: middle;\n",
              "    }\n",
              "\n",
              "    .dataframe tbody tr th {\n",
              "        vertical-align: top;\n",
              "    }\n",
              "\n",
              "    .dataframe thead th {\n",
              "        text-align: right;\n",
              "    }\n",
              "</style>\n",
              "<table border=\"1\" class=\"dataframe\">\n",
              "  <thead>\n",
              "    <tr style=\"text-align: right;\">\n",
              "      <th></th>\n",
              "      <th>Name</th>\n",
              "      <th>Age</th>\n",
              "      <th>Salary</th>\n",
              "    </tr>\n",
              "  </thead>\n",
              "  <tbody>\n",
              "    <tr>\n",
              "      <th>0</th>\n",
              "      <td>John</td>\n",
              "      <td>27</td>\n",
              "      <td>1000</td>\n",
              "    </tr>\n",
              "    <tr>\n",
              "      <th>1</th>\n",
              "      <td>Mike</td>\n",
              "      <td>23</td>\n",
              "      <td>2000</td>\n",
              "    </tr>\n",
              "    <tr>\n",
              "      <th>2</th>\n",
              "      <td>jesse</td>\n",
              "      <td>21</td>\n",
              "      <td>3000</td>\n",
              "    </tr>\n",
              "  </tbody>\n",
              "</table>\n",
              "</div>"
            ],
            "text/plain": [
              "    Name  Age  Salary\n",
              "0   John   27    1000\n",
              "1   Mike   23    2000\n",
              "2  jesse   21    3000"
            ]
          },
          "execution_count": 64,
          "metadata": {},
          "output_type": "execute_result"
        }
      ]
    },
    {
      "cell_type": "code",
      "metadata": {
        "id": "WCWZQ7EkCewS",
        "outputId": "410806be-4c1d-4e67-aa60-df341c0c7c7f"
      },
      "source": [
        "# DataFrame from wide format to long format.\n",
        "pd.melt(df)"
      ],
      "execution_count": null,
      "outputs": [
        {
          "data": {
            "text/html": [
              "<div>\n",
              "<style scoped>\n",
              "    .dataframe tbody tr th:only-of-type {\n",
              "        vertical-align: middle;\n",
              "    }\n",
              "\n",
              "    .dataframe tbody tr th {\n",
              "        vertical-align: top;\n",
              "    }\n",
              "\n",
              "    .dataframe thead th {\n",
              "        text-align: right;\n",
              "    }\n",
              "</style>\n",
              "<table border=\"1\" class=\"dataframe\">\n",
              "  <thead>\n",
              "    <tr style=\"text-align: right;\">\n",
              "      <th></th>\n",
              "      <th>variable</th>\n",
              "      <th>value</th>\n",
              "    </tr>\n",
              "  </thead>\n",
              "  <tbody>\n",
              "    <tr>\n",
              "      <th>0</th>\n",
              "      <td>Name</td>\n",
              "      <td>John</td>\n",
              "    </tr>\n",
              "    <tr>\n",
              "      <th>1</th>\n",
              "      <td>Name</td>\n",
              "      <td>Mike</td>\n",
              "    </tr>\n",
              "    <tr>\n",
              "      <th>2</th>\n",
              "      <td>Name</td>\n",
              "      <td>jesse</td>\n",
              "    </tr>\n",
              "    <tr>\n",
              "      <th>3</th>\n",
              "      <td>Age</td>\n",
              "      <td>27</td>\n",
              "    </tr>\n",
              "    <tr>\n",
              "      <th>4</th>\n",
              "      <td>Age</td>\n",
              "      <td>23</td>\n",
              "    </tr>\n",
              "    <tr>\n",
              "      <th>5</th>\n",
              "      <td>Age</td>\n",
              "      <td>21</td>\n",
              "    </tr>\n",
              "    <tr>\n",
              "      <th>6</th>\n",
              "      <td>Salary</td>\n",
              "      <td>1000</td>\n",
              "    </tr>\n",
              "    <tr>\n",
              "      <th>7</th>\n",
              "      <td>Salary</td>\n",
              "      <td>2000</td>\n",
              "    </tr>\n",
              "    <tr>\n",
              "      <th>8</th>\n",
              "      <td>Salary</td>\n",
              "      <td>3000</td>\n",
              "    </tr>\n",
              "  </tbody>\n",
              "</table>\n",
              "</div>"
            ],
            "text/plain": [
              "  variable  value\n",
              "0     Name   John\n",
              "1     Name   Mike\n",
              "2     Name  jesse\n",
              "3      Age     27\n",
              "4      Age     23\n",
              "5      Age     21\n",
              "6   Salary   1000\n",
              "7   Salary   2000\n",
              "8   Salary   3000"
            ]
          },
          "execution_count": 65,
          "metadata": {},
          "output_type": "execute_result"
        }
      ]
    },
    {
      "cell_type": "code",
      "metadata": {
        "id": "Er8tq0wKCewS",
        "outputId": "c24ff4e5-65c6-4f38-b650-89e0e2207f7d"
      },
      "source": [
        "pd.melt(df,id_vars ='Name', value_vars =['Age'])"
      ],
      "execution_count": null,
      "outputs": [
        {
          "data": {
            "text/html": [
              "<div>\n",
              "<style scoped>\n",
              "    .dataframe tbody tr th:only-of-type {\n",
              "        vertical-align: middle;\n",
              "    }\n",
              "\n",
              "    .dataframe tbody tr th {\n",
              "        vertical-align: top;\n",
              "    }\n",
              "\n",
              "    .dataframe thead th {\n",
              "        text-align: right;\n",
              "    }\n",
              "</style>\n",
              "<table border=\"1\" class=\"dataframe\">\n",
              "  <thead>\n",
              "    <tr style=\"text-align: right;\">\n",
              "      <th></th>\n",
              "      <th>Name</th>\n",
              "      <th>variable</th>\n",
              "      <th>value</th>\n",
              "    </tr>\n",
              "  </thead>\n",
              "  <tbody>\n",
              "    <tr>\n",
              "      <th>0</th>\n",
              "      <td>John</td>\n",
              "      <td>Age</td>\n",
              "      <td>27</td>\n",
              "    </tr>\n",
              "    <tr>\n",
              "      <th>1</th>\n",
              "      <td>Mike</td>\n",
              "      <td>Age</td>\n",
              "      <td>23</td>\n",
              "    </tr>\n",
              "    <tr>\n",
              "      <th>2</th>\n",
              "      <td>jesse</td>\n",
              "      <td>Age</td>\n",
              "      <td>21</td>\n",
              "    </tr>\n",
              "  </tbody>\n",
              "</table>\n",
              "</div>"
            ],
            "text/plain": [
              "    Name variable  value\n",
              "0   John      Age     27\n",
              "1   Mike      Age     23\n",
              "2  jesse      Age     21"
            ]
          },
          "execution_count": 66,
          "metadata": {},
          "output_type": "execute_result"
        }
      ]
    },
    {
      "cell_type": "markdown",
      "metadata": {
        "id": "kI9gA6IYCewT"
      },
      "source": [
        "## Pivot"
      ]
    },
    {
      "cell_type": "code",
      "metadata": {
        "id": "KHS2skPECewT",
        "outputId": "8d8c5528-4db4-4c09-bb28-bc0098cf3150"
      },
      "source": [
        "# The pivot() function is used to reshaped a given DataFrame organized by given index / column values. \n",
        "# This function does not support data aggregation, multiple values will result in a MultiIndex in the columns.\n",
        "\n",
        "df.pivot(\"Name\", \"Age\", \"Salary\")"
      ],
      "execution_count": null,
      "outputs": [
        {
          "data": {
            "text/html": [
              "<div>\n",
              "<style scoped>\n",
              "    .dataframe tbody tr th:only-of-type {\n",
              "        vertical-align: middle;\n",
              "    }\n",
              "\n",
              "    .dataframe tbody tr th {\n",
              "        vertical-align: top;\n",
              "    }\n",
              "\n",
              "    .dataframe thead th {\n",
              "        text-align: right;\n",
              "    }\n",
              "</style>\n",
              "<table border=\"1\" class=\"dataframe\">\n",
              "  <thead>\n",
              "    <tr style=\"text-align: right;\">\n",
              "      <th>Age</th>\n",
              "      <th>21</th>\n",
              "      <th>23</th>\n",
              "      <th>27</th>\n",
              "    </tr>\n",
              "    <tr>\n",
              "      <th>Name</th>\n",
              "      <th></th>\n",
              "      <th></th>\n",
              "      <th></th>\n",
              "    </tr>\n",
              "  </thead>\n",
              "  <tbody>\n",
              "    <tr>\n",
              "      <th>John</th>\n",
              "      <td>NaN</td>\n",
              "      <td>NaN</td>\n",
              "      <td>1000.0</td>\n",
              "    </tr>\n",
              "    <tr>\n",
              "      <th>Mike</th>\n",
              "      <td>NaN</td>\n",
              "      <td>2000.0</td>\n",
              "      <td>NaN</td>\n",
              "    </tr>\n",
              "    <tr>\n",
              "      <th>jesse</th>\n",
              "      <td>3000.0</td>\n",
              "      <td>NaN</td>\n",
              "      <td>NaN</td>\n",
              "    </tr>\n",
              "  </tbody>\n",
              "</table>\n",
              "</div>"
            ],
            "text/plain": [
              "Age        21      23      27\n",
              "Name                         \n",
              "John      NaN     NaN  1000.0\n",
              "Mike      NaN  2000.0     NaN\n",
              "jesse  3000.0     NaN     NaN"
            ]
          },
          "execution_count": 67,
          "metadata": {},
          "output_type": "execute_result"
        }
      ]
    },
    {
      "cell_type": "markdown",
      "metadata": {
        "id": "pUJoqD2_CewT"
      },
      "source": [
        "## Pivot_table"
      ]
    },
    {
      "cell_type": "code",
      "metadata": {
        "id": "4GzgJDvACewT"
      },
      "source": [
        "# The pivot_table() function is used to create a spreadsheet-style pivot table as a DataFrame."
      ],
      "execution_count": null,
      "outputs": []
    },
    {
      "cell_type": "code",
      "metadata": {
        "id": "UxtdfCs1CewT",
        "outputId": "a30c8d41-281f-4900-e65c-3e71cc7aee82"
      },
      "source": [
        "df = pd.DataFrame({'Name': {0: 'John', 1: 'Mike', 2: 'jesse', 3:'adola'},\n",
        "                   'Gender':{0:'male', 1:'male', 2:'female', 3:'female'},\n",
        "                   'Department':{0:'Sales', 1:'Marketing', 2:'Datascience', 3:'Python'},\n",
        "                   'Age': {0: 27, 1: 23, 2: 21, 3:25},\n",
        "                   'Salary':{0:1000, 1:2000, 2:3000, 3:2500}})\n",
        "\n",
        "\n",
        "\n",
        "\n",
        "df.pivot_table(index= ['Gender', 'Department'])"
      ],
      "execution_count": null,
      "outputs": [
        {
          "data": {
            "text/html": [
              "<div>\n",
              "<style scoped>\n",
              "    .dataframe tbody tr th:only-of-type {\n",
              "        vertical-align: middle;\n",
              "    }\n",
              "\n",
              "    .dataframe tbody tr th {\n",
              "        vertical-align: top;\n",
              "    }\n",
              "\n",
              "    .dataframe thead th {\n",
              "        text-align: right;\n",
              "    }\n",
              "</style>\n",
              "<table border=\"1\" class=\"dataframe\">\n",
              "  <thead>\n",
              "    <tr style=\"text-align: right;\">\n",
              "      <th></th>\n",
              "      <th></th>\n",
              "      <th>Age</th>\n",
              "      <th>Salary</th>\n",
              "    </tr>\n",
              "    <tr>\n",
              "      <th>Gender</th>\n",
              "      <th>Department</th>\n",
              "      <th></th>\n",
              "      <th></th>\n",
              "    </tr>\n",
              "  </thead>\n",
              "  <tbody>\n",
              "    <tr>\n",
              "      <th rowspan=\"2\" valign=\"top\">female</th>\n",
              "      <th>Datascience</th>\n",
              "      <td>21</td>\n",
              "      <td>3000</td>\n",
              "    </tr>\n",
              "    <tr>\n",
              "      <th>Python</th>\n",
              "      <td>25</td>\n",
              "      <td>2500</td>\n",
              "    </tr>\n",
              "    <tr>\n",
              "      <th rowspan=\"2\" valign=\"top\">male</th>\n",
              "      <th>Marketing</th>\n",
              "      <td>23</td>\n",
              "      <td>2000</td>\n",
              "    </tr>\n",
              "    <tr>\n",
              "      <th>Sales</th>\n",
              "      <td>27</td>\n",
              "      <td>1000</td>\n",
              "    </tr>\n",
              "  </tbody>\n",
              "</table>\n",
              "</div>"
            ],
            "text/plain": [
              "                    Age  Salary\n",
              "Gender Department              \n",
              "female Datascience   21    3000\n",
              "       Python        25    2500\n",
              "male   Marketing     23    2000\n",
              "       Sales         27    1000"
            ]
          },
          "execution_count": 69,
          "metadata": {},
          "output_type": "execute_result"
        }
      ]
    },
    {
      "cell_type": "markdown",
      "metadata": {
        "id": "78EMZwYmCewT"
      },
      "source": [
        "## Cross Tab"
      ]
    },
    {
      "cell_type": "code",
      "metadata": {
        "id": "mMse91EvCewT"
      },
      "source": [
        "# compute a simple cross tabulation of two (or more) factors. \n",
        "# By default computes a frequency table of the factors unless an array of values and an aggregation function are passed."
      ],
      "execution_count": null,
      "outputs": []
    },
    {
      "cell_type": "code",
      "metadata": {
        "id": "ElBQjU2KCewU",
        "outputId": "de3c564f-c2e3-442e-d00d-ed4172749a9f"
      },
      "source": [
        "pd.crosstab(df['Gender'], df['Department'])"
      ],
      "execution_count": null,
      "outputs": [
        {
          "data": {
            "text/html": [
              "<div>\n",
              "<style scoped>\n",
              "    .dataframe tbody tr th:only-of-type {\n",
              "        vertical-align: middle;\n",
              "    }\n",
              "\n",
              "    .dataframe tbody tr th {\n",
              "        vertical-align: top;\n",
              "    }\n",
              "\n",
              "    .dataframe thead th {\n",
              "        text-align: right;\n",
              "    }\n",
              "</style>\n",
              "<table border=\"1\" class=\"dataframe\">\n",
              "  <thead>\n",
              "    <tr style=\"text-align: right;\">\n",
              "      <th>Department</th>\n",
              "      <th>Datascience</th>\n",
              "      <th>Marketing</th>\n",
              "      <th>Python</th>\n",
              "      <th>Sales</th>\n",
              "    </tr>\n",
              "    <tr>\n",
              "      <th>Gender</th>\n",
              "      <th></th>\n",
              "      <th></th>\n",
              "      <th></th>\n",
              "      <th></th>\n",
              "    </tr>\n",
              "  </thead>\n",
              "  <tbody>\n",
              "    <tr>\n",
              "      <th>female</th>\n",
              "      <td>1</td>\n",
              "      <td>0</td>\n",
              "      <td>1</td>\n",
              "      <td>0</td>\n",
              "    </tr>\n",
              "    <tr>\n",
              "      <th>male</th>\n",
              "      <td>0</td>\n",
              "      <td>1</td>\n",
              "      <td>0</td>\n",
              "      <td>1</td>\n",
              "    </tr>\n",
              "  </tbody>\n",
              "</table>\n",
              "</div>"
            ],
            "text/plain": [
              "Department  Datascience  Marketing  Python  Sales\n",
              "Gender                                           \n",
              "female                1          0       1      0\n",
              "male                  0          1       0      1"
            ]
          },
          "execution_count": 71,
          "metadata": {},
          "output_type": "execute_result"
        }
      ]
    },
    {
      "cell_type": "markdown",
      "metadata": {
        "id": "YK76OX9KCewU"
      },
      "source": [
        "## Cut"
      ]
    },
    {
      "cell_type": "code",
      "metadata": {
        "id": "0bxHWaz4CewU"
      },
      "source": [
        "import numpy as np\n",
        "df = pd.DataFrame({'Age': np.random.randint(1, 100, 30)})\n",
        "\n",
        "\n",
        "\n",
        "\n",
        "\n",
        "\n",
        "df['bins'] = pd.cut(x=df['Age'], bins=[1, 20, 40, 60, 80, 100],\n",
        "                    labels=['kids', 'young', 'adult',\n",
        "                            'old', 'very old'])"
      ],
      "execution_count": null,
      "outputs": []
    },
    {
      "cell_type": "code",
      "metadata": {
        "id": "RBjxo3voCewU",
        "outputId": "455cc0c8-ddf2-4a2d-9f2b-5530e5acf8a6"
      },
      "source": [
        "df"
      ],
      "execution_count": null,
      "outputs": [
        {
          "data": {
            "text/html": [
              "<div>\n",
              "<style scoped>\n",
              "    .dataframe tbody tr th:only-of-type {\n",
              "        vertical-align: middle;\n",
              "    }\n",
              "\n",
              "    .dataframe tbody tr th {\n",
              "        vertical-align: top;\n",
              "    }\n",
              "\n",
              "    .dataframe thead th {\n",
              "        text-align: right;\n",
              "    }\n",
              "</style>\n",
              "<table border=\"1\" class=\"dataframe\">\n",
              "  <thead>\n",
              "    <tr style=\"text-align: right;\">\n",
              "      <th></th>\n",
              "      <th>Age</th>\n",
              "      <th>bins</th>\n",
              "    </tr>\n",
              "  </thead>\n",
              "  <tbody>\n",
              "    <tr>\n",
              "      <th>0</th>\n",
              "      <td>66</td>\n",
              "      <td>old</td>\n",
              "    </tr>\n",
              "    <tr>\n",
              "      <th>1</th>\n",
              "      <td>45</td>\n",
              "      <td>adult</td>\n",
              "    </tr>\n",
              "    <tr>\n",
              "      <th>2</th>\n",
              "      <td>60</td>\n",
              "      <td>adult</td>\n",
              "    </tr>\n",
              "    <tr>\n",
              "      <th>3</th>\n",
              "      <td>9</td>\n",
              "      <td>kids</td>\n",
              "    </tr>\n",
              "    <tr>\n",
              "      <th>4</th>\n",
              "      <td>14</td>\n",
              "      <td>kids</td>\n",
              "    </tr>\n",
              "    <tr>\n",
              "      <th>5</th>\n",
              "      <td>64</td>\n",
              "      <td>old</td>\n",
              "    </tr>\n",
              "    <tr>\n",
              "      <th>6</th>\n",
              "      <td>37</td>\n",
              "      <td>young</td>\n",
              "    </tr>\n",
              "    <tr>\n",
              "      <th>7</th>\n",
              "      <td>55</td>\n",
              "      <td>adult</td>\n",
              "    </tr>\n",
              "    <tr>\n",
              "      <th>8</th>\n",
              "      <td>98</td>\n",
              "      <td>very old</td>\n",
              "    </tr>\n",
              "    <tr>\n",
              "      <th>9</th>\n",
              "      <td>34</td>\n",
              "      <td>young</td>\n",
              "    </tr>\n",
              "    <tr>\n",
              "      <th>10</th>\n",
              "      <td>45</td>\n",
              "      <td>adult</td>\n",
              "    </tr>\n",
              "    <tr>\n",
              "      <th>11</th>\n",
              "      <td>98</td>\n",
              "      <td>very old</td>\n",
              "    </tr>\n",
              "    <tr>\n",
              "      <th>12</th>\n",
              "      <td>93</td>\n",
              "      <td>very old</td>\n",
              "    </tr>\n",
              "    <tr>\n",
              "      <th>13</th>\n",
              "      <td>95</td>\n",
              "      <td>very old</td>\n",
              "    </tr>\n",
              "    <tr>\n",
              "      <th>14</th>\n",
              "      <td>39</td>\n",
              "      <td>young</td>\n",
              "    </tr>\n",
              "    <tr>\n",
              "      <th>15</th>\n",
              "      <td>14</td>\n",
              "      <td>kids</td>\n",
              "    </tr>\n",
              "    <tr>\n",
              "      <th>16</th>\n",
              "      <td>6</td>\n",
              "      <td>kids</td>\n",
              "    </tr>\n",
              "    <tr>\n",
              "      <th>17</th>\n",
              "      <td>75</td>\n",
              "      <td>old</td>\n",
              "    </tr>\n",
              "    <tr>\n",
              "      <th>18</th>\n",
              "      <td>74</td>\n",
              "      <td>old</td>\n",
              "    </tr>\n",
              "    <tr>\n",
              "      <th>19</th>\n",
              "      <td>37</td>\n",
              "      <td>young</td>\n",
              "    </tr>\n",
              "    <tr>\n",
              "      <th>20</th>\n",
              "      <td>33</td>\n",
              "      <td>young</td>\n",
              "    </tr>\n",
              "    <tr>\n",
              "      <th>21</th>\n",
              "      <td>64</td>\n",
              "      <td>old</td>\n",
              "    </tr>\n",
              "    <tr>\n",
              "      <th>22</th>\n",
              "      <td>85</td>\n",
              "      <td>very old</td>\n",
              "    </tr>\n",
              "    <tr>\n",
              "      <th>23</th>\n",
              "      <td>15</td>\n",
              "      <td>kids</td>\n",
              "    </tr>\n",
              "    <tr>\n",
              "      <th>24</th>\n",
              "      <td>47</td>\n",
              "      <td>adult</td>\n",
              "    </tr>\n",
              "    <tr>\n",
              "      <th>25</th>\n",
              "      <td>69</td>\n",
              "      <td>old</td>\n",
              "    </tr>\n",
              "    <tr>\n",
              "      <th>26</th>\n",
              "      <td>7</td>\n",
              "      <td>kids</td>\n",
              "    </tr>\n",
              "    <tr>\n",
              "      <th>27</th>\n",
              "      <td>12</td>\n",
              "      <td>kids</td>\n",
              "    </tr>\n",
              "    <tr>\n",
              "      <th>28</th>\n",
              "      <td>67</td>\n",
              "      <td>old</td>\n",
              "    </tr>\n",
              "    <tr>\n",
              "      <th>29</th>\n",
              "      <td>28</td>\n",
              "      <td>young</td>\n",
              "    </tr>\n",
              "  </tbody>\n",
              "</table>\n",
              "</div>"
            ],
            "text/plain": [
              "    Age      bins\n",
              "0    66       old\n",
              "1    45     adult\n",
              "2    60     adult\n",
              "3     9      kids\n",
              "4    14      kids\n",
              "5    64       old\n",
              "6    37     young\n",
              "7    55     adult\n",
              "8    98  very old\n",
              "9    34     young\n",
              "10   45     adult\n",
              "11   98  very old\n",
              "12   93  very old\n",
              "13   95  very old\n",
              "14   39     young\n",
              "15   14      kids\n",
              "16    6      kids\n",
              "17   75       old\n",
              "18   74       old\n",
              "19   37     young\n",
              "20   33     young\n",
              "21   64       old\n",
              "22   85  very old\n",
              "23   15      kids\n",
              "24   47     adult\n",
              "25   69       old\n",
              "26    7      kids\n",
              "27   12      kids\n",
              "28   67       old\n",
              "29   28     young"
            ]
          },
          "execution_count": 73,
          "metadata": {},
          "output_type": "execute_result"
        }
      ]
    },
    {
      "cell_type": "code",
      "metadata": {
        "id": "BuAuF3zyCewU"
      },
      "source": [
        "gender = []\n",
        "for i in range(30):\n",
        "    if i%2==0:\n",
        "        gender.append('Male')\n",
        "    else:\n",
        "        gender.append('Female')\n",
        "\n",
        "        "
      ],
      "execution_count": null,
      "outputs": []
    },
    {
      "cell_type": "code",
      "metadata": {
        "id": "rnWbFCWNCewU"
      },
      "source": [
        "df['Gender'] = gender"
      ],
      "execution_count": null,
      "outputs": []
    },
    {
      "cell_type": "code",
      "metadata": {
        "id": "g1nvdbySCewV",
        "outputId": "0b829186-e9fe-49a4-c413-208f6b554b5a"
      },
      "source": [
        "df"
      ],
      "execution_count": null,
      "outputs": [
        {
          "data": {
            "text/html": [
              "<div>\n",
              "<style scoped>\n",
              "    .dataframe tbody tr th:only-of-type {\n",
              "        vertical-align: middle;\n",
              "    }\n",
              "\n",
              "    .dataframe tbody tr th {\n",
              "        vertical-align: top;\n",
              "    }\n",
              "\n",
              "    .dataframe thead th {\n",
              "        text-align: right;\n",
              "    }\n",
              "</style>\n",
              "<table border=\"1\" class=\"dataframe\">\n",
              "  <thead>\n",
              "    <tr style=\"text-align: right;\">\n",
              "      <th></th>\n",
              "      <th>Age</th>\n",
              "      <th>bins</th>\n",
              "      <th>Gender</th>\n",
              "    </tr>\n",
              "  </thead>\n",
              "  <tbody>\n",
              "    <tr>\n",
              "      <th>0</th>\n",
              "      <td>66</td>\n",
              "      <td>old</td>\n",
              "      <td>Male</td>\n",
              "    </tr>\n",
              "    <tr>\n",
              "      <th>1</th>\n",
              "      <td>45</td>\n",
              "      <td>adult</td>\n",
              "      <td>Female</td>\n",
              "    </tr>\n",
              "    <tr>\n",
              "      <th>2</th>\n",
              "      <td>60</td>\n",
              "      <td>adult</td>\n",
              "      <td>Male</td>\n",
              "    </tr>\n",
              "    <tr>\n",
              "      <th>3</th>\n",
              "      <td>9</td>\n",
              "      <td>kids</td>\n",
              "      <td>Female</td>\n",
              "    </tr>\n",
              "    <tr>\n",
              "      <th>4</th>\n",
              "      <td>14</td>\n",
              "      <td>kids</td>\n",
              "      <td>Male</td>\n",
              "    </tr>\n",
              "    <tr>\n",
              "      <th>5</th>\n",
              "      <td>64</td>\n",
              "      <td>old</td>\n",
              "      <td>Female</td>\n",
              "    </tr>\n",
              "    <tr>\n",
              "      <th>6</th>\n",
              "      <td>37</td>\n",
              "      <td>young</td>\n",
              "      <td>Male</td>\n",
              "    </tr>\n",
              "    <tr>\n",
              "      <th>7</th>\n",
              "      <td>55</td>\n",
              "      <td>adult</td>\n",
              "      <td>Female</td>\n",
              "    </tr>\n",
              "    <tr>\n",
              "      <th>8</th>\n",
              "      <td>98</td>\n",
              "      <td>very old</td>\n",
              "      <td>Male</td>\n",
              "    </tr>\n",
              "    <tr>\n",
              "      <th>9</th>\n",
              "      <td>34</td>\n",
              "      <td>young</td>\n",
              "      <td>Female</td>\n",
              "    </tr>\n",
              "    <tr>\n",
              "      <th>10</th>\n",
              "      <td>45</td>\n",
              "      <td>adult</td>\n",
              "      <td>Male</td>\n",
              "    </tr>\n",
              "    <tr>\n",
              "      <th>11</th>\n",
              "      <td>98</td>\n",
              "      <td>very old</td>\n",
              "      <td>Female</td>\n",
              "    </tr>\n",
              "    <tr>\n",
              "      <th>12</th>\n",
              "      <td>93</td>\n",
              "      <td>very old</td>\n",
              "      <td>Male</td>\n",
              "    </tr>\n",
              "    <tr>\n",
              "      <th>13</th>\n",
              "      <td>95</td>\n",
              "      <td>very old</td>\n",
              "      <td>Female</td>\n",
              "    </tr>\n",
              "    <tr>\n",
              "      <th>14</th>\n",
              "      <td>39</td>\n",
              "      <td>young</td>\n",
              "      <td>Male</td>\n",
              "    </tr>\n",
              "    <tr>\n",
              "      <th>15</th>\n",
              "      <td>14</td>\n",
              "      <td>kids</td>\n",
              "      <td>Female</td>\n",
              "    </tr>\n",
              "    <tr>\n",
              "      <th>16</th>\n",
              "      <td>6</td>\n",
              "      <td>kids</td>\n",
              "      <td>Male</td>\n",
              "    </tr>\n",
              "    <tr>\n",
              "      <th>17</th>\n",
              "      <td>75</td>\n",
              "      <td>old</td>\n",
              "      <td>Female</td>\n",
              "    </tr>\n",
              "    <tr>\n",
              "      <th>18</th>\n",
              "      <td>74</td>\n",
              "      <td>old</td>\n",
              "      <td>Male</td>\n",
              "    </tr>\n",
              "    <tr>\n",
              "      <th>19</th>\n",
              "      <td>37</td>\n",
              "      <td>young</td>\n",
              "      <td>Female</td>\n",
              "    </tr>\n",
              "    <tr>\n",
              "      <th>20</th>\n",
              "      <td>33</td>\n",
              "      <td>young</td>\n",
              "      <td>Male</td>\n",
              "    </tr>\n",
              "    <tr>\n",
              "      <th>21</th>\n",
              "      <td>64</td>\n",
              "      <td>old</td>\n",
              "      <td>Female</td>\n",
              "    </tr>\n",
              "    <tr>\n",
              "      <th>22</th>\n",
              "      <td>85</td>\n",
              "      <td>very old</td>\n",
              "      <td>Male</td>\n",
              "    </tr>\n",
              "    <tr>\n",
              "      <th>23</th>\n",
              "      <td>15</td>\n",
              "      <td>kids</td>\n",
              "      <td>Female</td>\n",
              "    </tr>\n",
              "    <tr>\n",
              "      <th>24</th>\n",
              "      <td>47</td>\n",
              "      <td>adult</td>\n",
              "      <td>Male</td>\n",
              "    </tr>\n",
              "    <tr>\n",
              "      <th>25</th>\n",
              "      <td>69</td>\n",
              "      <td>old</td>\n",
              "      <td>Female</td>\n",
              "    </tr>\n",
              "    <tr>\n",
              "      <th>26</th>\n",
              "      <td>7</td>\n",
              "      <td>kids</td>\n",
              "      <td>Male</td>\n",
              "    </tr>\n",
              "    <tr>\n",
              "      <th>27</th>\n",
              "      <td>12</td>\n",
              "      <td>kids</td>\n",
              "      <td>Female</td>\n",
              "    </tr>\n",
              "    <tr>\n",
              "      <th>28</th>\n",
              "      <td>67</td>\n",
              "      <td>old</td>\n",
              "      <td>Male</td>\n",
              "    </tr>\n",
              "    <tr>\n",
              "      <th>29</th>\n",
              "      <td>28</td>\n",
              "      <td>young</td>\n",
              "      <td>Female</td>\n",
              "    </tr>\n",
              "  </tbody>\n",
              "</table>\n",
              "</div>"
            ],
            "text/plain": [
              "    Age      bins  Gender\n",
              "0    66       old    Male\n",
              "1    45     adult  Female\n",
              "2    60     adult    Male\n",
              "3     9      kids  Female\n",
              "4    14      kids    Male\n",
              "5    64       old  Female\n",
              "6    37     young    Male\n",
              "7    55     adult  Female\n",
              "8    98  very old    Male\n",
              "9    34     young  Female\n",
              "10   45     adult    Male\n",
              "11   98  very old  Female\n",
              "12   93  very old    Male\n",
              "13   95  very old  Female\n",
              "14   39     young    Male\n",
              "15   14      kids  Female\n",
              "16    6      kids    Male\n",
              "17   75       old  Female\n",
              "18   74       old    Male\n",
              "19   37     young  Female\n",
              "20   33     young    Male\n",
              "21   64       old  Female\n",
              "22   85  very old    Male\n",
              "23   15      kids  Female\n",
              "24   47     adult    Male\n",
              "25   69       old  Female\n",
              "26    7      kids    Male\n",
              "27   12      kids  Female\n",
              "28   67       old    Male\n",
              "29   28     young  Female"
            ]
          },
          "execution_count": 76,
          "metadata": {},
          "output_type": "execute_result"
        }
      ]
    },
    {
      "cell_type": "code",
      "metadata": {
        "id": "siqQs4iLCewV",
        "outputId": "72f3cd5f-680a-4f96-8be8-8f1d6f9c4c6f"
      },
      "source": [
        "#for example you can use crosstab here \n",
        "pd.crosstab(df['bins'], df['Gender'])"
      ],
      "execution_count": null,
      "outputs": [
        {
          "data": {
            "text/html": [
              "<div>\n",
              "<style scoped>\n",
              "    .dataframe tbody tr th:only-of-type {\n",
              "        vertical-align: middle;\n",
              "    }\n",
              "\n",
              "    .dataframe tbody tr th {\n",
              "        vertical-align: top;\n",
              "    }\n",
              "\n",
              "    .dataframe thead th {\n",
              "        text-align: right;\n",
              "    }\n",
              "</style>\n",
              "<table border=\"1\" class=\"dataframe\">\n",
              "  <thead>\n",
              "    <tr style=\"text-align: right;\">\n",
              "      <th>Gender</th>\n",
              "      <th>Female</th>\n",
              "      <th>Male</th>\n",
              "    </tr>\n",
              "    <tr>\n",
              "      <th>bins</th>\n",
              "      <th></th>\n",
              "      <th></th>\n",
              "    </tr>\n",
              "  </thead>\n",
              "  <tbody>\n",
              "    <tr>\n",
              "      <th>kids</th>\n",
              "      <td>4</td>\n",
              "      <td>3</td>\n",
              "    </tr>\n",
              "    <tr>\n",
              "      <th>young</th>\n",
              "      <td>3</td>\n",
              "      <td>3</td>\n",
              "    </tr>\n",
              "    <tr>\n",
              "      <th>adult</th>\n",
              "      <td>2</td>\n",
              "      <td>3</td>\n",
              "    </tr>\n",
              "    <tr>\n",
              "      <th>old</th>\n",
              "      <td>4</td>\n",
              "      <td>3</td>\n",
              "    </tr>\n",
              "    <tr>\n",
              "      <th>very old</th>\n",
              "      <td>2</td>\n",
              "      <td>3</td>\n",
              "    </tr>\n",
              "  </tbody>\n",
              "</table>\n",
              "</div>"
            ],
            "text/plain": [
              "Gender    Female  Male\n",
              "bins                  \n",
              "kids           4     3\n",
              "young          3     3\n",
              "adult          2     3\n",
              "old            4     3\n",
              "very old       2     3"
            ]
          },
          "execution_count": 77,
          "metadata": {},
          "output_type": "execute_result"
        }
      ]
    },
    {
      "cell_type": "code",
      "metadata": {
        "id": "LG9iYMlfCewV"
      },
      "source": [
        ""
      ],
      "execution_count": null,
      "outputs": []
    }
  ]
}